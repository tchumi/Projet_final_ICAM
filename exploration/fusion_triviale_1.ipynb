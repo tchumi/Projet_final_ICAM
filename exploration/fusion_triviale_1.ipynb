{
 "cells": [
  {
   "cell_type": "code",
   "execution_count": 26,
   "metadata": {},
   "outputs": [],
   "source": [
    "import pandas as pd\n",
    "import os\n"
   ]
  },
  {
   "cell_type": "code",
   "execution_count": 10,
   "metadata": {},
   "outputs": [],
   "source": [
    "# import des données socio-économiques-démographiques\n",
    "\n",
    "\n",
    "# Chemin des fichiers\n",
    "data_dir = \"C:/Users/Admin.local/Documents/Projet_final_data/Piketty_data\"\n",
    "\n",
    "# Fichiers correspondants\n",
    "files = {\n",
    "    \"revenus\": \"Revenus_csv/revcommunes.csv\",\n",
    "    \"csp\": \"CSP_csv/cspcommunes.csv\",\n",
    "    \"diplomes\": \"Diplomes_csv/diplomescommunes.csv\",\n",
    "    \"etrangers\": \"Nationalites_csv/etrangerscommunes.csv\",\n",
    "    \"proprietaires\": \"Proprietaires_csv/proprietairescommunes.csv\"\n",
    "}\n"
   ]
  },
  {
   "cell_type": "code",
   "execution_count": 27,
   "metadata": {},
   "outputs": [],
   "source": [
    "\n",
    "# Mise à jour des variables finales sélectionnées\n",
    "final_columns = {\n",
    "    \"revenus\": [\"codecommune\", \"revmoy2022\", \"revmoyfoy2022\", \"revratio2022\"],\n",
    "    \"csp\": [\"codecommune\", \"pchom2022\", \"pouvr2022\", \"pcadr2022\"],  # Suppression des percentiles\n",
    "    \"diplomes\": [\"codecommune\", \"pbac2022\", \"psup2022\"],  # Remplacement des percentiles par des proportions\n",
    "    \"etrangers\": [\"codecommune\", \"petranger2022\"],\n",
    "    \"proprietaires\": [\"codecommune\", \"ppropri2022\"]  # Correction ici : perpropri2022 remplacé par ppropri2022\n",
    "}\n",
    "\n",
    "# Charger et sélectionner uniquement les variables utiles\n",
    "dfs = {}\n",
    "\n",
    "# Spécifiez les types de données pour les colonnes concernées\n",
    "dtype_options = {\n",
    "    \"revenus\": {\"codecommune\": str, \"revmoy2022\": float, \"revmoyfoy2022\": float, \"revratio2022\": float},\n",
    "    \"csp\": {\"codecommune\": str, \"pchom2022\": float, \"pouvr2022\": float, \"pcadr2022\": float},\n",
    "    \"diplomes\": {\"codecommune\": str, \"pbac2022\": float, \"psup2022\": float},\n",
    "    \"etrangers\": {\"codecommune\": str, \"petranger2022\": float},\n",
    "    \"proprietaires\": {\"codecommune\": str, \"ppropri2022\": float}\n",
    "}\n",
    "\n",
    "for key, file in files.items():\n",
    "    path = os.path.join(data_dir, file)\n",
    "    df = pd.read_csv(path, sep=\",\", dtype=dtype_options[key], low_memory=False)\n",
    "\n",
    "    # Vérifier si les colonnes existent dans le dataset\n",
    "    cols_to_keep = [col for col in final_columns[key] if col in df.columns]\n",
    "    df_selected = df[cols_to_keep]\n",
    "    \n",
    "    dfs[key] = df_selected\n",
    "\n",
    "# Fusion des datasets\n",
    "df_final = dfs[\"revenus\"]\n",
    "for key in [\"csp\", \"diplomes\", \"etrangers\", \"proprietaires\"]:\n",
    "    df_final = df_final.merge(dfs[key], on=\"codecommune\", how=\"left\")"
   ]
  },
  {
   "cell_type": "code",
   "execution_count": 28,
   "metadata": {},
   "outputs": [
    {
     "data": {
      "text/plain": [
       "(36661, 11)"
      ]
     },
     "execution_count": 28,
     "metadata": {},
     "output_type": "execute_result"
    }
   ],
   "source": [
    "df_final.shape"
   ]
  },
  {
   "cell_type": "code",
   "execution_count": 29,
   "metadata": {},
   "outputs": [
    {
     "name": "stdout",
     "output_type": "stream",
     "text": [
      "<class 'pandas.core.frame.DataFrame'>\n",
      "RangeIndex: 36661 entries, 0 to 36660\n",
      "Data columns (total 11 columns):\n",
      " #   Column         Non-Null Count  Dtype  \n",
      "---  ------         --------------  -----  \n",
      " 0   codecommune    36661 non-null  object \n",
      " 1   revmoy2022     34746 non-null  float64\n",
      " 2   revmoyfoy2022  34747 non-null  float64\n",
      " 3   revratio2022   36661 non-null  float64\n",
      " 4   pchom2022      35065 non-null  float64\n",
      " 5   pouvr2022      35065 non-null  float64\n",
      " 6   pcadr2022      35065 non-null  float64\n",
      " 7   pbac2022       35222 non-null  float64\n",
      " 8   psup2022       35222 non-null  float64\n",
      " 9   petranger2022  34807 non-null  float64\n",
      " 10  ppropri2022    36545 non-null  float64\n",
      "dtypes: float64(10), object(1)\n",
      "memory usage: 3.1+ MB\n"
     ]
    }
   ],
   "source": [
    "df_final.info()"
   ]
  },
  {
   "cell_type": "code",
   "execution_count": 30,
   "metadata": {},
   "outputs": [],
   "source": [
    "df_final.to_csv(\"df_final.csv\", index=False)"
   ]
  },
  {
   "cell_type": "code",
   "execution_count": 32,
   "metadata": {},
   "outputs": [],
   "source": [
    "\n",
    "\n",
    "# Chemin des fichiers\n",
    "data_dir = \"C:/Users/Admin.local/Documents/Projet_final_data/Piketty_data\"\n",
    "file_votes = os.path.join(data_dir, \"pres2022_csv/pres2022comm.csv\")\n",
    "\n",
    "# Spécifiez les types de données pour les colonnes concernées\n",
    "dtype_votes = {\n",
    "    \"codecommune\": str,\n",
    "    \"exprimes\": float,\n",
    "    \"voteG\": float,\n",
    "    \"voteCG\": float,\n",
    "    \"voteC\": float,\n",
    "    \"voteCD\": float,\n",
    "    \"voteD\": float,\n",
    "    \"voteTG\": float,\n",
    "    \"voteTD\": float,\n",
    "    \"voteGCG\": float,\n",
    "    \"voteDCD\": float,\n",
    "    \"pvoixT2MACRON\": float,\n",
    "    \"pvoixT2MLEPEN\": float,\n",
    "    \"pabs\": float,\n",
    "    \"pblancsnuls\": float,\n",
    "    \"pabsT2\": float,\n",
    "    \"pblancsnulsT2\": float\n",
    "}\n",
    "\n",
    "# Charger les résultats de la présidentielle 2022\n",
    "df_votes = pd.read_csv(file_votes, sep=\",\", dtype=dtype_votes, low_memory=False)\n",
    "\n",
    "# Charger les résultats de la présidentielle 2022 avec les regroupements politiques\n",
    "columns_votes = [\n",
    "    \"codecommune\", \"exprimes\", \"voteG\", \"voteCG\", \"voteC\", \"voteCD\", \"voteD\", \"voteTG\", \"voteTD\",\n",
    "    \"voteGCG\", \"voteDCD\", \"pvoixT2MACRON\", \"pvoixT2MLEPEN\", \"pabs\", \"pblancsnuls\", \"pabsT2\", \"pblancsnulsT2\"\n",
    "]\n",
    "df_votes = df_votes[columns_votes]\n",
    "\n",
    "# Fusion avec le dataset principal\n",
    "df_final = df_final.merge(df_votes, on=\"codecommune\", how=\"left\")"
   ]
  },
  {
   "cell_type": "code",
   "execution_count": 33,
   "metadata": {},
   "outputs": [
    {
     "data": {
      "text/plain": [
       "(36661, 43)"
      ]
     },
     "execution_count": 33,
     "metadata": {},
     "output_type": "execute_result"
    }
   ],
   "source": [
    "df_final.shape"
   ]
  },
  {
   "cell_type": "code",
   "execution_count": 34,
   "metadata": {},
   "outputs": [],
   "source": [
    "df_final.to_csv(\"df_final.csv\", index=False)"
   ]
  },
  {
   "cell_type": "code",
   "execution_count": 35,
   "metadata": {},
   "outputs": [
    {
     "data": {
      "text/plain": [
       "Index(['codecommune', 'revmoy2022', 'revmoyfoy2022', 'revratio2022',\n",
       "       'pchom2022', 'pouvr2022', 'pcadr2022', 'pbac2022', 'psup2022',\n",
       "       'petranger2022', 'ppropri2022', 'exprimes_x', 'voteG_x', 'voteCG_x',\n",
       "       'voteC_x', 'voteCD_x', 'voteD_x', 'voteTG_x', 'voteTD_x', 'voteGCG_x',\n",
       "       'voteDCD_x', 'pvoixT2MACRON_x', 'pvoixT2MLEPEN_x', 'pabs_x',\n",
       "       'pblancsnuls_x', 'pabsT2_x', 'pblancsnulsT2_x', 'exprimes_y', 'voteG_y',\n",
       "       'voteCG_y', 'voteC_y', 'voteCD_y', 'voteD_y', 'voteTG_y', 'voteTD_y',\n",
       "       'voteGCG_y', 'voteDCD_y', 'pvoixT2MACRON_y', 'pvoixT2MLEPEN_y',\n",
       "       'pabs_y', 'pblancsnuls_y', 'pabsT2_y', 'pblancsnulsT2_y'],\n",
       "      dtype='object')"
      ]
     },
     "execution_count": 35,
     "metadata": {},
     "output_type": "execute_result"
    }
   ],
   "source": [
    "df_final.columns"
   ]
  },
  {
   "cell_type": "code",
   "execution_count": null,
   "metadata": {},
   "outputs": [],
   "source": []
  }
 ],
 "metadata": {
  "kernelspec": {
   "display_name": ".venv",
   "language": "python",
   "name": "python3"
  },
  "language_info": {
   "codemirror_mode": {
    "name": "ipython",
    "version": 3
   },
   "file_extension": ".py",
   "mimetype": "text/x-python",
   "name": "python",
   "nbconvert_exporter": "python",
   "pygments_lexer": "ipython3",
   "version": "3.10.11"
  }
 },
 "nbformat": 4,
 "nbformat_minor": 2
}
