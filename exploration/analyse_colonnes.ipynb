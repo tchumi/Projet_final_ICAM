{
 "cells": [
  {
   "cell_type": "code",
   "execution_count": 1,
   "metadata": {},
   "outputs": [],
   "source": [
    "import pandas as pd\n",
    "import os\n",
    "import re\n"
   ]
  },
  {
   "cell_type": "code",
   "execution_count": 4,
   "metadata": {},
   "outputs": [
    {
     "name": "stdout",
     "output_type": "stream",
     "text": [
      "\n",
      "📌 VOTES : []\n",
      "\n",
      "📌 REVENUS : ['nadult', 'nfoyer', 'perrev', 'perrevadu', 'perrevagglo', 'perrevfoy', 'pop', 'revdep', 'revmoy', 'revmoyadu', 'revmoyfoy', 'revratio', 'revratioadu', 'revratioagglo', 'revratiofoy', 'revtot', 'revtotagglo']\n",
      "\n",
      "📌 CSP : ['agri', 'aica', 'aind', 'cadr', 'capi', 'chom', 'empl', 'indp', 'ouem', 'ouvr', 'pact', 'pagri', 'paica', 'paind', 'pcadr', 'pcapi', 'pchom', 'pempl', 'peragri', 'peraica', 'peraind', 'percadr', 'percapi', 'perchom', 'perempl', 'perindp', 'perouem', 'perouvr', 'perpint', 'pindp', 'pint', 'pouem', 'pouvr', 'ppint']\n",
      "\n",
      "📌 DIPLOMES : ['bac', 'bacf', 'bach', 'nodip', 'nodipf', 'nodiph', 'pbac', 'perbac', 'persup', 'psup', 'sup', 'supf', 'suph']\n",
      "\n",
      "📌 ETRANGERS : ['etranger', 'francais', 'peretranger', 'petranger']\n",
      "\n",
      "📌 PROPRIETAIRES : ['nlogement', 'npropri', 'perpropri', 'ppropri']\n"
     ]
    }
   ],
   "source": [
    "\n",
    "# Chemin des fichiers\n",
    "data_dir = \"C:/Users/Admin.local/Documents/Projet_final_data/Piketty_data\"\n",
    "\n",
    "# Fichiers clés à explorer\n",
    "files = {\n",
    "    \"votes\": \"pres2022_csv/pres2022comm.csv\",\n",
    "    \"revenus\": \"Revenus_csv/revcommunes.csv\",\n",
    "    \"csp\": \"CSP_csv/cspcommunes.csv\",\n",
    "    \"diplomes\": \"Diplomes_csv/diplomescommunes.csv\",\n",
    "    \"etrangers\": \"Nationalites_csv/etrangerscommunes.csv\",\n",
    "    \"proprietaires\": \"Proprietaires_csv/proprietairescommunes.csv\"\n",
    "}\n",
    "\n",
    "# Explorer les familles de colonnes\n",
    "column_groups = {}\n",
    "\n",
    "for key, file in files.items():\n",
    "    path = os.path.join(data_dir, file)\n",
    "    df = pd.read_csv(path, sep=\",\", nrows=5)  # Charger seulement les premières lignes\n",
    "    \n",
    "    # Trouver les préfixes de colonnes\n",
    "    prefixes = set()\n",
    "    for col in df.columns:\n",
    "        match = re.match(r\"([a-zA-Z]+)[0-9]{4}\", col)  # Identifier les noms comme 'perrev1850'\n",
    "        if match:\n",
    "            prefixes.add(match.group(1))  # Stocker uniquement le préfixe\n",
    "\n",
    "    column_groups[key] = sorted(prefixes)  # Trier pour analyse\n",
    "\n",
    "# Afficher les groupes de colonnes détectés\n",
    "for key, cols in column_groups.items():\n",
    "    print(f\"\\n📌 {key.upper()} : {cols}\")\n"
   ]
  },
  {
   "cell_type": "code",
   "execution_count": 7,
   "metadata": {},
   "outputs": [],
   "source": [
    "# Chemin des fichiers\n",
    "data_dir = \"C:/Users/Admin.local/Documents/Projet_final_data/Piketty_data/pres2022_csv/pres2022comm.csv\"\n",
    "\n",
    "df = pd.read_csv(data_dir, sep=\",\", nrows=5)  # Charger seulement les premières lignes"
   ]
  },
  {
   "cell_type": "code",
   "execution_count": 8,
   "metadata": {},
   "outputs": [
    {
     "data": {
      "text/plain": [
       "Index(['dep', 'nomdep', 'codecommune', 'nomcommune', 'inscrits', 'votants',\n",
       "       'exprimes', 'voixARTHAUD', 'voixPOUTOU', 'voixROUSSEL', 'voixMELENCHON',\n",
       "       'voixJADOT', 'voixHIDALGO', 'voixLASSALLE', 'voixMACRON',\n",
       "       'voixPECRESSE', 'voixZEMMOUR', 'voixDUPONTAIGNAN', 'voixMLEPEN',\n",
       "       'voixT2MACRON', 'voixT2MLEPEN', 'pvoixARTHAUD', 'pvoixPOUTOU',\n",
       "       'pvoixROUSSEL', 'pvoixMELENCHON', 'pvoixJADOT', 'pvoixHIDALGO',\n",
       "       'pvoixLASSALLE', 'pvoixMACRON', 'pvoixPECRESSE', 'pvoixZEMMOUR',\n",
       "       'pvoixDUPONTAIGNAN', 'pvoixMLEPEN', 'pvoixARTHAUDratio',\n",
       "       'pvoixPOUTOUratio', 'pvoixROUSSELratio', 'pvoixMELENCHONratio',\n",
       "       'pvoixJADOTratio', 'pvoixHIDALGOratio', 'pvoixLASSALLEratio',\n",
       "       'pvoixMACRONratio', 'pvoixPECRESSEratio', 'pvoixZEMMOURratio',\n",
       "       'pvoixDUPONTAIGNANratio', 'pvoixMLEPENratio', 'pvoixT2MACRON',\n",
       "       'pvoixT2MACRONratio', 'pvoixT2MLEPEN', 'pvoixT2MLEPENratio', 'voteG',\n",
       "       'voteCG', 'voteC', 'voteCD', 'voteD', 'voteTG', 'voteTD', 'voteGCG',\n",
       "       'voteDCD', 'pvoteG', 'pvoteCG', 'pvoteC', 'pvoteCD', 'pvoteD',\n",
       "       'pvoteTG', 'pvoteTD', 'pvoteGCG', 'pvoteDCD', 'pvoteGratio',\n",
       "       'pvoteCGratio', 'pvoteCratio', 'pvoteCDratio', 'pvoteDratio',\n",
       "       'pvoteGCGratio', 'pvoteDCDratio', 'pvoteTGratio', 'pvoteTDratio',\n",
       "       'pervoteG', 'pervoteCG', 'pervoteC', 'pervoteCD', 'pervoteD',\n",
       "       'pervoteGCG', 'pervoteDCD', 'pervoteTG', 'pervoteTD', 'plm',\n",
       "       'plmdoublon', 'ppar', 'perpar', 'pparratio', 'pabs', 'pblancsnuls',\n",
       "       'inscritsT2', 'votantsT2', 'exprimesT2', 'pabsT2', 'pblancsnulsT2'],\n",
       "      dtype='object')"
      ]
     },
     "execution_count": 8,
     "metadata": {},
     "output_type": "execute_result"
    }
   ],
   "source": [
    "df.columns"
   ]
  },
  {
   "cell_type": "code",
   "execution_count": null,
   "metadata": {},
   "outputs": [],
   "source": []
  }
 ],
 "metadata": {
  "kernelspec": {
   "display_name": ".venv",
   "language": "python",
   "name": "python3"
  },
  "language_info": {
   "codemirror_mode": {
    "name": "ipython",
    "version": 3
   },
   "file_extension": ".py",
   "mimetype": "text/x-python",
   "name": "python",
   "nbconvert_exporter": "python",
   "pygments_lexer": "ipython3",
   "version": "3.10.11"
  }
 },
 "nbformat": 4,
 "nbformat_minor": 2
}
