{
 "cells": [
  {
   "cell_type": "code",
   "execution_count": 1,
   "metadata": {},
   "outputs": [],
   "source": [
    "import pandas as pd\n",
    "import os\n",
    "import re\n"
   ]
  },
  {
   "cell_type": "code",
   "execution_count": 3,
   "metadata": {},
   "outputs": [
    {
     "name": "stdout",
     "output_type": "stream",
     "text": [
      "\n",
      "📌 VOTES : []\n",
      "\n",
      "📌 REVENUS : ['nadult', 'nfoyer', 'perrev', 'perrevadu', 'perrevagglo', 'perrevfoy', 'pop', 'revdep', 'revmoy', 'revmoyadu', 'revmoyfoy', 'revratio', 'revratioadu', 'revratioagglo', 'revratiofoy', 'revtot', 'revtotagglo']\n",
      "\n",
      "📌 CSP : ['agri', 'aica', 'aind', 'cadr', 'capi', 'chom', 'empl', 'indp', 'ouem', 'ouvr', 'pact', 'pagri', 'paica', 'paind', 'pcadr', 'pcapi', 'pchom', 'pempl', 'peragri', 'peraica', 'peraind', 'percadr', 'percapi', 'perchom', 'perempl', 'perindp', 'perouem', 'perouvr', 'perpint', 'pindp', 'pint', 'pouem', 'pouvr', 'ppint']\n",
      "\n",
      "📌 DIPLOMES : ['bac', 'bacf', 'bach', 'nodip', 'nodipf', 'nodiph', 'pbac', 'perbac', 'persup', 'psup', 'sup', 'supf', 'suph']\n",
      "\n",
      "📌 ETRANGERS : ['etranger', 'francais', 'peretranger', 'petranger']\n",
      "\n",
      "📌 PROPRIETAIRES : ['nlogement', 'npropri', 'perpropri', 'ppropri']\n",
      "\n",
      "📌 IMMOBILIER : ['capitalimmo', 'capitalimmoagglo', 'capitalratio', 'capitalratioagglo', 'percap', 'percapagglo', 'pop', 'prixbien', 'prixm', 'propappartement', 'propappartementdep', 'surface', 'surfaceterrain']\n",
      "\n",
      "📌 AGE : ['age', 'agef', 'ageh', 'perage', 'perprop', 'perpropf', 'pop', 'popf', 'poph', 'prop', 'propf']\n"
     ]
    }
   ],
   "source": [
    "\n",
    "# Chemin des fichiers\n",
    "data_dir = \"C:/Users/Admin.local/Documents/Projet_final_data/Piketty_data\"\n",
    "\n",
    "# Fichiers clés à explorer\n",
    "files = {\n",
    "    \"votes\": \"pres2022_csv/pres2022comm.csv\",\n",
    "    \"revenus\": \"Revenus_csv/revcommunes.csv\",\n",
    "    \"csp\": \"CSP_csv/cspcommunes.csv\",\n",
    "    \"diplomes\": \"Diplomes_csv/diplomescommunes.csv\",\n",
    "    \"etrangers\": \"Nationalites_csv/etrangerscommunes.csv\",\n",
    "    \"proprietaires\": \"Proprietaires_csv/proprietairescommunes.csv\",\n",
    "    \"immobilier\": \"Capital_immobilier_csv/capitalimmobiliercommunes.csv\",\n",
    "    \"age\":\"Age_csp/agesexcommunes.csv\"\n",
    "}\n",
    "\n",
    "# Explorer les familles de colonnes\n",
    "column_groups = {}\n",
    "\n",
    "for key, file in files.items():\n",
    "    path = os.path.join(data_dir, file)\n",
    "    df = pd.read_csv(path, sep=\",\", nrows=5)  # Charger seulement les premières lignes\n",
    "    \n",
    "    # Trouver les préfixes de colonnes\n",
    "    prefixes = set()\n",
    "    for col in df.columns:\n",
    "        match = re.match(r\"([a-zA-Z]+)[0-9]{4}\", col)  # Identifier les noms comme 'perrev1850'\n",
    "        if match:\n",
    "            prefixes.add(match.group(1))  # Stocker uniquement le préfixe\n",
    "\n",
    "    column_groups[key] = sorted(prefixes)  # Trier pour analyse\n",
    "\n",
    "# Afficher les groupes de colonnes détectés\n",
    "for key, cols in column_groups.items():\n",
    "    print(f\"\\n📌 {key.upper()} : {cols}\")\n"
   ]
  },
  {
   "cell_type": "code",
   "execution_count": 11,
   "metadata": {},
   "outputs": [
    {
     "name": "stdout",
     "output_type": "stream",
     "text": [
      "\n",
      "📌 FISC : ['arrondissement', 'basefonciere', 'basefonciereratio', 'basefoncieretot', 'basehabitation', 'basehabitationratio', 'basehabitationtot', 'baseimpotslocaux', 'baseimpotslocauxratio', 'baseimpotslocauxtot', 'canton', 'codecommune', 'cog', 'nomcommune', 'octroi', 'pop', 'recette', 'recettefonciere', 'recettefonciereratio', 'recettefoncieretot', 'recettehabitation', 'recettehabitationratio', 'recettehabitationtot', 'recetteimpotslocaux', 'recetteimpotslocauxratio', 'recetteimpotslocauxtot', 'recetteratio', 'recettetot', 'tauxfoncier', 'tauxfoncierratio', 'tauxhabitation', 'tauxhabitationratio', 'tauximpotslocaux', 'tauximpotslocauxratio']\n",
      "\n",
      "📌 ISF : ['misf', 'mmoyfortune', 'nfoyisf', 'permisf', 'perpisf', 'pisf', 'pop']\n",
      "\n",
      "📌 TERRES : ['nexploit', 'surface']\n",
      "\n",
      "📌 RELIGION : ['ncantonprim', 'ncantonseco', 'nclerge', 'nrefract', 'prefract', 'privecanton']\n",
      "\n",
      "📌 PUBLIC_PRIVE : ['ncantonclg', 'ncantonelem', 'ncantonlgt', 'ncantonlpro', 'ncantonpreelem', 'ncantonprim', 'ncantonseco', 'ncantontotal', 'nclg', 'nelem', 'nlgt', 'nlpro', 'npreelem', 'nprim', 'nseco', 'ntotal', 'perprive', 'perpriveseco', 'prive', 'privecanton']\n"
     ]
    }
   ],
   "source": [
    "\n",
    "# Chemin des fichiers\n",
    "data_dir = \"C:/Users/Admin.local/Documents/Projet_final_data/Piketty_data\"\n",
    "\n",
    "# Fichiers clés à explorer\n",
    "files = {\n",
    "    \"fisc\": \"Capital_immobilier_csv/basesfiscalescommunes.csv\",\n",
    "    \"isf\": \"Capital_immobilier_csv/isfcommunes.csv\",\n",
    "    \"terres\": \"Capital_immobilier_csv/terrescommunes.csv\",\n",
    "    \"religion\": \"Enseignement_prive_csv/religiositecommunes.csv\",\n",
    "    \"public_prive\": \"Enseignement_prive_csv/publicprivecommunes2021.csv\",\n",
    " }\n",
    "\n",
    "# Explorer les familles de colonnes\n",
    "column_groups = {}\n",
    "\n",
    "for key, file in files.items():\n",
    "    path = os.path.join(data_dir, file)\n",
    "    df = pd.read_csv(path, sep=\",\", nrows=5)  # Charger seulement les premières lignes\n",
    "    \n",
    "    # Trouver les préfixes de colonnes\n",
    "    prefixes = set()\n",
    "    for col in df.columns:\n",
    "        match = re.match(r\"([a-zA-Z]+)[0-9]{4}\", col)  # Identifier les noms comme 'perrev1850'\n",
    "        if match:\n",
    "            prefixes.add(match.group(1))  # Stocker uniquement le préfixe\n",
    "\n",
    "    column_groups[key] = sorted(prefixes)  # Trier pour analyse\n",
    "\n",
    "# Afficher les groupes de colonnes détectés\n",
    "for key, cols in column_groups.items():\n",
    "    print(f\"\\n📌 {key.upper()} : {cols}\")\n"
   ]
  },
  {
   "cell_type": "code",
   "execution_count": 7,
   "metadata": {},
   "outputs": [],
   "source": [
    "# Chemin des fichiers\n",
    "data_dir = \"C:/Users/Admin.local/Documents/Projet_final_data/Piketty_data/pres2022_csv/pres2022comm.csv\"\n",
    "\n",
    "df = pd.read_csv(data_dir, sep=\",\", nrows=5)  # Charger seulement les premières lignes"
   ]
  },
  {
   "cell_type": "code",
   "execution_count": 3,
   "metadata": {},
   "outputs": [],
   "source": [
    "# Chemin des fichiers\n",
    "data_dir = \"C:/Users/Admin.local/Documents/Projet_final_data/Piketty_data/Capital_immobilier_csv/terrescommunes.csv\"\n",
    "\n",
    "df = pd.read_csv(data_dir, sep=\",\", nrows=5)  # Charger seulement les premières lignes"
   ]
  },
  {
   "cell_type": "code",
   "execution_count": 5,
   "metadata": {},
   "outputs": [],
   "source": [
    "# Chemin des fichiers\n",
    "data_dir = \"C:/Users/Admin.local/Documents/Projet_final_data/Piketty_data/Capital_immobilier_csv/isfcommunes.csv\"\n",
    "\n",
    "df = pd.read_csv(data_dir, sep=\",\", nrows=5)  # Charger seulement les premières lignes"
   ]
  },
  {
   "cell_type": "code",
   "execution_count": 6,
   "metadata": {},
   "outputs": [
    {
     "data": {
      "text/plain": [
       "Index(['dep', 'nomdep', 'codecommune', 'nomcommune', 'paris', 'nfoyisf2017',\n",
       "       'mmoyfortune2017', 'pisf2017', 'perpisf2017', 'misf2017', 'permisf2017',\n",
       "       'pop2017'],\n",
       "      dtype='object')"
      ]
     },
     "execution_count": 6,
     "metadata": {},
     "output_type": "execute_result"
    }
   ],
   "source": [
    "df.columns"
   ]
  },
  {
   "cell_type": "code",
   "execution_count": 4,
   "metadata": {},
   "outputs": [],
   "source": [
    "df=pd.read_csv(\"D:\\Projet_final_data\\Piketty_data\\pres2022_csv\\pres2022comm.csv\", sep=\",\",nrows=5)"
   ]
  },
  {
   "cell_type": "code",
   "execution_count": 5,
   "metadata": {},
   "outputs": [
    {
     "data": {
      "text/plain": [
       "Index(['dep', 'nomdep', 'codecommune', 'nomcommune', 'inscrits', 'votants',\n",
       "       'exprimes', 'voixARTHAUD', 'voixPOUTOU', 'voixROUSSEL', 'voixMELENCHON',\n",
       "       'voixJADOT', 'voixHIDALGO', 'voixLASSALLE', 'voixMACRON',\n",
       "       'voixPECRESSE', 'voixZEMMOUR', 'voixDUPONTAIGNAN', 'voixMLEPEN',\n",
       "       'voixT2MACRON', 'voixT2MLEPEN', 'pvoixARTHAUD', 'pvoixPOUTOU',\n",
       "       'pvoixROUSSEL', 'pvoixMELENCHON', 'pvoixJADOT', 'pvoixHIDALGO',\n",
       "       'pvoixLASSALLE', 'pvoixMACRON', 'pvoixPECRESSE', 'pvoixZEMMOUR',\n",
       "       'pvoixDUPONTAIGNAN', 'pvoixMLEPEN', 'pvoixARTHAUDratio',\n",
       "       'pvoixPOUTOUratio', 'pvoixROUSSELratio', 'pvoixMELENCHONratio',\n",
       "       'pvoixJADOTratio', 'pvoixHIDALGOratio', 'pvoixLASSALLEratio',\n",
       "       'pvoixMACRONratio', 'pvoixPECRESSEratio', 'pvoixZEMMOURratio',\n",
       "       'pvoixDUPONTAIGNANratio', 'pvoixMLEPENratio', 'pvoixT2MACRON',\n",
       "       'pvoixT2MACRONratio', 'pvoixT2MLEPEN', 'pvoixT2MLEPENratio', 'voteG',\n",
       "       'voteCG', 'voteC', 'voteCD', 'voteD', 'voteTG', 'voteTD', 'voteGCG',\n",
       "       'voteDCD', 'pvoteG', 'pvoteCG', 'pvoteC', 'pvoteCD', 'pvoteD',\n",
       "       'pvoteTG', 'pvoteTD', 'pvoteGCG', 'pvoteDCD', 'pvoteGratio',\n",
       "       'pvoteCGratio', 'pvoteCratio', 'pvoteCDratio', 'pvoteDratio',\n",
       "       'pvoteGCGratio', 'pvoteDCDratio', 'pvoteTGratio', 'pvoteTDratio',\n",
       "       'pervoteG', 'pervoteCG', 'pervoteC', 'pervoteCD', 'pervoteD',\n",
       "       'pervoteGCG', 'pervoteDCD', 'pervoteTG', 'pervoteTD', 'plm',\n",
       "       'plmdoublon', 'ppar', 'perpar', 'pparratio', 'pabs', 'pblancsnuls',\n",
       "       'inscritsT2', 'votantsT2', 'exprimesT2', 'pabsT2', 'pblancsnulsT2'],\n",
       "      dtype='object')"
      ]
     },
     "execution_count": 5,
     "metadata": {},
     "output_type": "execute_result"
    }
   ],
   "source": [
    "df.columns"
   ]
  },
  {
   "cell_type": "code",
   "execution_count": 2,
   "metadata": {},
   "outputs": [],
   "source": [
    "df=pd.read_csv(\"D:\\Projet_final_data\\Piketty_data\\pres1965_csv\\pres1965comm.csv\", sep=\",\",nrows=5)"
   ]
  },
  {
   "cell_type": "code",
   "execution_count": 3,
   "metadata": {},
   "outputs": [
    {
     "data": {
      "text/plain": [
       "Index(['dep', 'nomdep', 'codecommune', 'nomcommune', 'inscrits', 'votants',\n",
       "       'exprimes', 'voixBARBU', 'voixMITTERRAND', 'voixLECANUET',\n",
       "       'voixDEGAULLE', 'voixMARCILHACY', 'voixTIXIERVIGNANCOUR',\n",
       "       'voixT2MITTERRAND', 'voixT2DEGAULLE', 'pvoixBARBU', 'pvoixMITTERRAND',\n",
       "       'pvoixLECANUET', 'pvoixDEGAULLE', 'pvoixMARCILHACY',\n",
       "       'pvoixTIXIERVIGNANCOUR', 'pvoixBARBUratio', 'pvoixMITTERRANDratio',\n",
       "       'pvoixLECANUETratio', 'pvoixDEGAULLEratio', 'pvoixMARCILHACYratio',\n",
       "       'pvoixTIXIERVIGNANCOURratio', 'pvoixT2MITTERRAND',\n",
       "       'pvoixT2MITTERRANDratio', 'pvoixT2DEGAULLE', 'pvoixT2DEGAULLEratio',\n",
       "       'voteG', 'voteCG', 'voteC', 'voteCD', 'voteD', 'voteTG', 'voteTD',\n",
       "       'voteGCG', 'voteDCD', 'pvoteG', 'pvoteCG', 'pvoteC', 'pvoteCD',\n",
       "       'pvoteD', 'pvoteTG', 'pvoteTD', 'pvoteGCG', 'pvoteDCD', 'pvoteGratio',\n",
       "       'pvoteCGratio', 'pvoteCratio', 'pvoteCDratio', 'pvoteDratio',\n",
       "       'pvoteGCGratio', 'pvoteDCDratio', 'pvoteTGratio', 'pvoteTDratio',\n",
       "       'pervoteG', 'pervoteCG', 'pervoteC', 'pervoteCD', 'pervoteD',\n",
       "       'pervoteGCG', 'pervoteDCD', 'pervoteTG', 'pervoteTD', 'plm',\n",
       "       'plmdoublon', 'ppar', 'perpar', 'pparratio', 'year', 'nomdepancien',\n",
       "       'nomcanton', 'nuls', 'abs', 'inscritsT2', 'votantsT2', 'nulsT2',\n",
       "       'exprimesT2', 'absT2', 'codecommune2', 'dep2'],\n",
       "      dtype='object')"
      ]
     },
     "execution_count": 3,
     "metadata": {},
     "output_type": "execute_result"
    }
   ],
   "source": [
    "df.columns"
   ]
  },
  {
   "cell_type": "code",
   "execution_count": null,
   "metadata": {},
   "outputs": [],
   "source": []
  }
 ],
 "metadata": {
  "kernelspec": {
   "display_name": ".venv",
   "language": "python",
   "name": "python3"
  },
  "language_info": {
   "codemirror_mode": {
    "name": "ipython",
    "version": 3
   },
   "file_extension": ".py",
   "mimetype": "text/x-python",
   "name": "python",
   "nbconvert_exporter": "python",
   "pygments_lexer": "ipython3",
   "version": "3.10.11"
  }
 },
 "nbformat": 4,
 "nbformat_minor": 2
}
