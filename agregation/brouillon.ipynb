{
 "cells": [
  {
   "cell_type": "code",
   "execution_count": 7,
   "metadata": {},
   "outputs": [],
   "source": [
    "import pandas as pd"
   ]
  },
  {
   "cell_type": "code",
   "execution_count": 4,
   "metadata": {},
   "outputs": [],
   "source": [
    "# lecture des 5 premières lignes du fichier csv C:\\Users\\Admin.local\\Documents\\Projet_final_ICAM\\df_final_pres22.csv\n",
    "df = pd.read_csv(\"C:/Users/Admin.local/Documents/Projet_final_ICAM/df_final_pres22.csv\", sep=\",\", nrows=5)\n"
   ]
  },
  {
   "cell_type": "code",
   "execution_count": 5,
   "metadata": {},
   "outputs": [
    {
     "data": {
      "text/plain": [
       "(5, 34)"
      ]
     },
     "execution_count": 5,
     "metadata": {},
     "output_type": "execute_result"
    }
   ],
   "source": [
    "df.shape"
   ]
  },
  {
   "cell_type": "code",
   "execution_count": 2,
   "metadata": {},
   "outputs": [
    {
     "name": "stdout",
     "output_type": "stream",
     "text": [
      "✅ Fichier chargé avec succès !\n",
      "\n",
      "📊 Aperçu des types de colonnes :\n",
      "codecommune       object\n",
      "revmoy2022       float64\n",
      "revmoyfoy2022    float64\n",
      "revratio2022     float64\n",
      "pchom2022        float64\n",
      "pouvr2022        float64\n",
      "pcadr2022        float64\n",
      "pbac2022         float64\n",
      "psup2022         float64\n",
      "petranger2022    float64\n",
      "ppropri2022      float64\n",
      "pop2022          float64\n",
      "propf2022        float64\n",
      "prop0142022      float64\n",
      "prop15392022     float64\n",
      "prop40592022     float64\n",
      "prop60p2022      float64\n",
      "age2022          float64\n",
      "exprimes         float64\n",
      "voteG            float64\n",
      "voteCG           float64\n",
      "voteC            float64\n",
      "voteCD           float64\n",
      "voteD            float64\n",
      "voteTG           float64\n",
      "voteTD           float64\n",
      "voteGCG          float64\n",
      "voteDCD          float64\n",
      "pvoixT2MACRON    float64\n",
      "pvoixT2MLEPEN    float64\n",
      "pabs             float64\n",
      "pblancsnuls      float64\n",
      "pabsT2           float64\n",
      "pblancsnulsT2    float64\n",
      "dtype: object\n",
      "\n",
      "🔍 Colonnes avec valeurs manquantes :\n",
      "revmoy2022        24974\n",
      "revmoyfoy2022     24973\n",
      "pchom2022        157339\n",
      "pouvr2022        157339\n",
      "pcadr2022        157339\n",
      "pbac2022         156512\n",
      "psup2022         156512\n",
      "petranger2022    179511\n",
      "ppropri2022       92586\n",
      "pop2022          141870\n",
      "propf2022        156491\n",
      "prop0142022      156491\n",
      "prop15392022     156491\n",
      "prop40592022     156491\n",
      "prop60p2022      156491\n",
      "age2022          156491\n",
      "exprimes          25163\n",
      "voteG             25163\n",
      "voteCG            25163\n",
      "voteC             25163\n",
      "voteCD            25163\n",
      "voteD             25163\n",
      "voteTG            25163\n",
      "voteTD            25163\n",
      "voteGCG           25163\n",
      "voteDCD           25163\n",
      "pvoixT2MACRON     26551\n",
      "pvoixT2MLEPEN     26551\n",
      "pabs              25163\n",
      "pblancsnuls       25163\n",
      "pabsT2            25163\n",
      "pblancsnulsT2     25163\n",
      "dtype: int64\n",
      "\n",
      "✅ Aucune colonne avec des types mixtes détectée.\n",
      "\n",
      "🚨 Variables avec valeurs aberrantes :\n",
      "pop2022 : Max 875791.0 > 100%\n",
      "exprimes : Max 1055062.0 > 100%\n"
     ]
    }
   ],
   "source": [
    "\n",
    "# 📍 Chemin du fichier\n",
    "file_path = r\"C:\\Users\\Admin.local\\Documents\\Projet_final_ICAM\\df_final_pres22.csv\"\n",
    "\n",
    "# 📌 Chargement des données\n",
    "try:\n",
    "    df = pd.read_csv(file_path, low_memory=False)\n",
    "    print(\"✅ Fichier chargé avec succès !\")\n",
    "except FileNotFoundError:\n",
    "    print(\"❌ Erreur : Le fichier n'a pas été trouvé.\")\n",
    "    exit()\n",
    "except Exception as e:\n",
    "    print(f\"❌ Erreur lors du chargement du fichier : {e}\")\n",
    "    exit()\n",
    "\n",
    "# 📌 Vérification des types de données\n",
    "print(\"\\n📊 Aperçu des types de colonnes :\")\n",
    "print(df.dtypes)\n",
    "\n",
    "# 📌 Vérification des valeurs manquantes\n",
    "missing_values = df.isnull().sum()\n",
    "missing_values = missing_values[missing_values > 0]\n",
    "missing_values_dict = missing_values.to_dict()  # Convertir en dictionnaire pour éviter l'erreur\n",
    "\n",
    "if not missing_values.empty:\n",
    "    print(\"\\n🔍 Colonnes avec valeurs manquantes :\")\n",
    "    print(missing_values)\n",
    "else:\n",
    "    print(\"\\n✅ Aucune valeur manquante détectée.\")\n",
    "\n",
    "# 📌 Vérification des types mixtes dans les colonnes\n",
    "mixed_type_columns = []\n",
    "for col in df.columns:\n",
    "    unique_types = df[col].apply(type).nunique()\n",
    "    if unique_types > 1:\n",
    "        mixed_type_columns.append(col)\n",
    "\n",
    "if mixed_type_columns:\n",
    "    print(\"\\n⚠️ Colonnes contenant des types de données mixtes :\")\n",
    "    print(mixed_type_columns)\n",
    "else:\n",
    "    print(\"\\n✅ Aucune colonne avec des types mixtes détectée.\")\n",
    "\n",
    "# 📌 Vérification des valeurs aberrantes\n",
    "numeric_columns = df.select_dtypes(include=['float64', 'int64']).columns\n",
    "outliers = {}\n",
    "\n",
    "for col in numeric_columns:\n",
    "    min_val = df[col].min()\n",
    "    max_val = df[col].max()\n",
    "    \n",
    "    # Détection de valeurs aberrantes (ex : pourcentages > 100% ou valeurs négatives)\n",
    "    if \"p\" in col.lower() and max_val > 100:\n",
    "        outliers[col] = f\"Max {max_val} > 100%\"\n",
    "    if min_val < 0:\n",
    "        outliers[col] = f\"Min {min_val} < 0\"\n",
    "\n",
    "if outliers:\n",
    "    print(\"\\n🚨 Variables avec valeurs aberrantes :\")\n",
    "    for key, value in outliers.items():\n",
    "        print(f\"{key} : {value}\")\n",
    "else:\n",
    "    print(\"\\n✅ Aucune valeur aberrante détectée.\")\n",
    "\n",
    "\n",
    "\n"
   ]
  },
  {
   "cell_type": "code",
   "execution_count": 3,
   "metadata": {},
   "outputs": [],
   "source": [
    "\n",
    "\n",
    "# 📌 Création du DataFrame récapitulatif des incohérences\n",
    "coherence_report = pd.DataFrame({\n",
    "    \"Colonnes Manquantes\": list(missing_values_dict.keys()),\n",
    "    \"Valeurs Manquantes\": list(missing_values_dict.values()),\n",
    "    \"Colonnes Types Mixtes\": mixed_type_columns + [\"\"] * (len(missing_values_dict) - len(mixed_type_columns)),\n",
    "    \"Valeurs Aberrantes\": list(outliers.keys()) + [\"\"] * (len(missing_values_dict) - len(outliers))\n",
    "})\n"
   ]
  },
  {
   "cell_type": "code",
   "execution_count": 4,
   "metadata": {},
   "outputs": [
    {
     "data": {
      "text/html": [
       "<div>\n",
       "<style scoped>\n",
       "    .dataframe tbody tr th:only-of-type {\n",
       "        vertical-align: middle;\n",
       "    }\n",
       "\n",
       "    .dataframe tbody tr th {\n",
       "        vertical-align: top;\n",
       "    }\n",
       "\n",
       "    .dataframe thead th {\n",
       "        text-align: right;\n",
       "    }\n",
       "</style>\n",
       "<table border=\"1\" class=\"dataframe\">\n",
       "  <thead>\n",
       "    <tr style=\"text-align: right;\">\n",
       "      <th></th>\n",
       "      <th>Colonnes Manquantes</th>\n",
       "      <th>Valeurs Manquantes</th>\n",
       "      <th>Colonnes Types Mixtes</th>\n",
       "      <th>Valeurs Aberrantes</th>\n",
       "    </tr>\n",
       "  </thead>\n",
       "  <tbody>\n",
       "    <tr>\n",
       "      <th>0</th>\n",
       "      <td>revmoy2022</td>\n",
       "      <td>24974</td>\n",
       "      <td></td>\n",
       "      <td>pop2022</td>\n",
       "    </tr>\n",
       "    <tr>\n",
       "      <th>1</th>\n",
       "      <td>revmoyfoy2022</td>\n",
       "      <td>24973</td>\n",
       "      <td></td>\n",
       "      <td>exprimes</td>\n",
       "    </tr>\n",
       "    <tr>\n",
       "      <th>2</th>\n",
       "      <td>pchom2022</td>\n",
       "      <td>157339</td>\n",
       "      <td></td>\n",
       "      <td></td>\n",
       "    </tr>\n",
       "    <tr>\n",
       "      <th>3</th>\n",
       "      <td>pouvr2022</td>\n",
       "      <td>157339</td>\n",
       "      <td></td>\n",
       "      <td></td>\n",
       "    </tr>\n",
       "    <tr>\n",
       "      <th>4</th>\n",
       "      <td>pcadr2022</td>\n",
       "      <td>157339</td>\n",
       "      <td></td>\n",
       "      <td></td>\n",
       "    </tr>\n",
       "    <tr>\n",
       "      <th>5</th>\n",
       "      <td>pbac2022</td>\n",
       "      <td>156512</td>\n",
       "      <td></td>\n",
       "      <td></td>\n",
       "    </tr>\n",
       "    <tr>\n",
       "      <th>6</th>\n",
       "      <td>psup2022</td>\n",
       "      <td>156512</td>\n",
       "      <td></td>\n",
       "      <td></td>\n",
       "    </tr>\n",
       "    <tr>\n",
       "      <th>7</th>\n",
       "      <td>petranger2022</td>\n",
       "      <td>179511</td>\n",
       "      <td></td>\n",
       "      <td></td>\n",
       "    </tr>\n",
       "    <tr>\n",
       "      <th>8</th>\n",
       "      <td>ppropri2022</td>\n",
       "      <td>92586</td>\n",
       "      <td></td>\n",
       "      <td></td>\n",
       "    </tr>\n",
       "    <tr>\n",
       "      <th>9</th>\n",
       "      <td>pop2022</td>\n",
       "      <td>141870</td>\n",
       "      <td></td>\n",
       "      <td></td>\n",
       "    </tr>\n",
       "    <tr>\n",
       "      <th>10</th>\n",
       "      <td>propf2022</td>\n",
       "      <td>156491</td>\n",
       "      <td></td>\n",
       "      <td></td>\n",
       "    </tr>\n",
       "    <tr>\n",
       "      <th>11</th>\n",
       "      <td>prop0142022</td>\n",
       "      <td>156491</td>\n",
       "      <td></td>\n",
       "      <td></td>\n",
       "    </tr>\n",
       "    <tr>\n",
       "      <th>12</th>\n",
       "      <td>prop15392022</td>\n",
       "      <td>156491</td>\n",
       "      <td></td>\n",
       "      <td></td>\n",
       "    </tr>\n",
       "    <tr>\n",
       "      <th>13</th>\n",
       "      <td>prop40592022</td>\n",
       "      <td>156491</td>\n",
       "      <td></td>\n",
       "      <td></td>\n",
       "    </tr>\n",
       "    <tr>\n",
       "      <th>14</th>\n",
       "      <td>prop60p2022</td>\n",
       "      <td>156491</td>\n",
       "      <td></td>\n",
       "      <td></td>\n",
       "    </tr>\n",
       "    <tr>\n",
       "      <th>15</th>\n",
       "      <td>age2022</td>\n",
       "      <td>156491</td>\n",
       "      <td></td>\n",
       "      <td></td>\n",
       "    </tr>\n",
       "    <tr>\n",
       "      <th>16</th>\n",
       "      <td>exprimes</td>\n",
       "      <td>25163</td>\n",
       "      <td></td>\n",
       "      <td></td>\n",
       "    </tr>\n",
       "    <tr>\n",
       "      <th>17</th>\n",
       "      <td>voteG</td>\n",
       "      <td>25163</td>\n",
       "      <td></td>\n",
       "      <td></td>\n",
       "    </tr>\n",
       "    <tr>\n",
       "      <th>18</th>\n",
       "      <td>voteCG</td>\n",
       "      <td>25163</td>\n",
       "      <td></td>\n",
       "      <td></td>\n",
       "    </tr>\n",
       "    <tr>\n",
       "      <th>19</th>\n",
       "      <td>voteC</td>\n",
       "      <td>25163</td>\n",
       "      <td></td>\n",
       "      <td></td>\n",
       "    </tr>\n",
       "    <tr>\n",
       "      <th>20</th>\n",
       "      <td>voteCD</td>\n",
       "      <td>25163</td>\n",
       "      <td></td>\n",
       "      <td></td>\n",
       "    </tr>\n",
       "    <tr>\n",
       "      <th>21</th>\n",
       "      <td>voteD</td>\n",
       "      <td>25163</td>\n",
       "      <td></td>\n",
       "      <td></td>\n",
       "    </tr>\n",
       "    <tr>\n",
       "      <th>22</th>\n",
       "      <td>voteTG</td>\n",
       "      <td>25163</td>\n",
       "      <td></td>\n",
       "      <td></td>\n",
       "    </tr>\n",
       "    <tr>\n",
       "      <th>23</th>\n",
       "      <td>voteTD</td>\n",
       "      <td>25163</td>\n",
       "      <td></td>\n",
       "      <td></td>\n",
       "    </tr>\n",
       "    <tr>\n",
       "      <th>24</th>\n",
       "      <td>voteGCG</td>\n",
       "      <td>25163</td>\n",
       "      <td></td>\n",
       "      <td></td>\n",
       "    </tr>\n",
       "    <tr>\n",
       "      <th>25</th>\n",
       "      <td>voteDCD</td>\n",
       "      <td>25163</td>\n",
       "      <td></td>\n",
       "      <td></td>\n",
       "    </tr>\n",
       "    <tr>\n",
       "      <th>26</th>\n",
       "      <td>pvoixT2MACRON</td>\n",
       "      <td>26551</td>\n",
       "      <td></td>\n",
       "      <td></td>\n",
       "    </tr>\n",
       "    <tr>\n",
       "      <th>27</th>\n",
       "      <td>pvoixT2MLEPEN</td>\n",
       "      <td>26551</td>\n",
       "      <td></td>\n",
       "      <td></td>\n",
       "    </tr>\n",
       "    <tr>\n",
       "      <th>28</th>\n",
       "      <td>pabs</td>\n",
       "      <td>25163</td>\n",
       "      <td></td>\n",
       "      <td></td>\n",
       "    </tr>\n",
       "    <tr>\n",
       "      <th>29</th>\n",
       "      <td>pblancsnuls</td>\n",
       "      <td>25163</td>\n",
       "      <td></td>\n",
       "      <td></td>\n",
       "    </tr>\n",
       "    <tr>\n",
       "      <th>30</th>\n",
       "      <td>pabsT2</td>\n",
       "      <td>25163</td>\n",
       "      <td></td>\n",
       "      <td></td>\n",
       "    </tr>\n",
       "    <tr>\n",
       "      <th>31</th>\n",
       "      <td>pblancsnulsT2</td>\n",
       "      <td>25163</td>\n",
       "      <td></td>\n",
       "      <td></td>\n",
       "    </tr>\n",
       "  </tbody>\n",
       "</table>\n",
       "</div>"
      ],
      "text/plain": [
       "   Colonnes Manquantes  Valeurs Manquantes Colonnes Types Mixtes  \\\n",
       "0           revmoy2022               24974                         \n",
       "1        revmoyfoy2022               24973                         \n",
       "2            pchom2022              157339                         \n",
       "3            pouvr2022              157339                         \n",
       "4            pcadr2022              157339                         \n",
       "5             pbac2022              156512                         \n",
       "6             psup2022              156512                         \n",
       "7        petranger2022              179511                         \n",
       "8          ppropri2022               92586                         \n",
       "9              pop2022              141870                         \n",
       "10           propf2022              156491                         \n",
       "11         prop0142022              156491                         \n",
       "12        prop15392022              156491                         \n",
       "13        prop40592022              156491                         \n",
       "14         prop60p2022              156491                         \n",
       "15             age2022              156491                         \n",
       "16            exprimes               25163                         \n",
       "17               voteG               25163                         \n",
       "18              voteCG               25163                         \n",
       "19               voteC               25163                         \n",
       "20              voteCD               25163                         \n",
       "21               voteD               25163                         \n",
       "22              voteTG               25163                         \n",
       "23              voteTD               25163                         \n",
       "24             voteGCG               25163                         \n",
       "25             voteDCD               25163                         \n",
       "26       pvoixT2MACRON               26551                         \n",
       "27       pvoixT2MLEPEN               26551                         \n",
       "28                pabs               25163                         \n",
       "29         pblancsnuls               25163                         \n",
       "30              pabsT2               25163                         \n",
       "31       pblancsnulsT2               25163                         \n",
       "\n",
       "   Valeurs Aberrantes  \n",
       "0             pop2022  \n",
       "1            exprimes  \n",
       "2                      \n",
       "3                      \n",
       "4                      \n",
       "5                      \n",
       "6                      \n",
       "7                      \n",
       "8                      \n",
       "9                      \n",
       "10                     \n",
       "11                     \n",
       "12                     \n",
       "13                     \n",
       "14                     \n",
       "15                     \n",
       "16                     \n",
       "17                     \n",
       "18                     \n",
       "19                     \n",
       "20                     \n",
       "21                     \n",
       "22                     \n",
       "23                     \n",
       "24                     \n",
       "25                     \n",
       "26                     \n",
       "27                     \n",
       "28                     \n",
       "29                     \n",
       "30                     \n",
       "31                     "
      ]
     },
     "execution_count": 4,
     "metadata": {},
     "output_type": "execute_result"
    }
   ],
   "source": [
    "coherence_report"
   ]
  },
  {
   "cell_type": "code",
   "execution_count": 5,
   "metadata": {},
   "outputs": [
    {
     "name": "stdout",
     "output_type": "stream",
     "text": [
      "\n",
      "✅ Rapport exporté dans coherence_report.csv\n",
      "\n",
      "🎯 Analyse terminée.\n"
     ]
    }
   ],
   "source": [
    "\n",
    "# 📌 Option d'exportation des incohérences\n",
    "export_choice = input(\"\\n💾 Voulez-vous enregistrer les incohérences dans un fichier CSV ? (y/n) : \").strip().lower()\n",
    "if export_choice == \"y\":\n",
    "    export_path = \"coherence_report.csv\"\n",
    "    coherence_report.to_csv(export_path, index=False)\n",
    "    print(f\"\\n✅ Rapport exporté dans {export_path}\")\n",
    "\n",
    "print(\"\\n🎯 Analyse terminée.\")\n"
   ]
  },
  {
   "cell_type": "code",
   "execution_count": 6,
   "metadata": {},
   "outputs": [
    {
     "data": {
      "text/plain": [
       "(5457455, 34)"
      ]
     },
     "execution_count": 6,
     "metadata": {},
     "output_type": "execute_result"
    }
   ],
   "source": [
    "df.shape"
   ]
  },
  {
   "cell_type": "code",
   "execution_count": 7,
   "metadata": {},
   "outputs": [
    {
     "name": "stdout",
     "output_type": "stream",
     "text": [
      "<class 'pandas.core.frame.DataFrame'>\n",
      "RangeIndex: 5457455 entries, 0 to 5457454\n",
      "Data columns (total 34 columns):\n",
      " #   Column         Dtype  \n",
      "---  ------         -----  \n",
      " 0   codecommune    object \n",
      " 1   revmoy2022     float64\n",
      " 2   revmoyfoy2022  float64\n",
      " 3   revratio2022   float64\n",
      " 4   pchom2022      float64\n",
      " 5   pouvr2022      float64\n",
      " 6   pcadr2022      float64\n",
      " 7   pbac2022       float64\n",
      " 8   psup2022       float64\n",
      " 9   petranger2022  float64\n",
      " 10  ppropri2022    float64\n",
      " 11  pop2022        float64\n",
      " 12  propf2022      float64\n",
      " 13  prop0142022    float64\n",
      " 14  prop15392022   float64\n",
      " 15  prop40592022   float64\n",
      " 16  prop60p2022    float64\n",
      " 17  age2022        float64\n",
      " 18  exprimes       float64\n",
      " 19  voteG          float64\n",
      " 20  voteCG         float64\n",
      " 21  voteC          float64\n",
      " 22  voteCD         float64\n",
      " 23  voteD          float64\n",
      " 24  voteTG         float64\n",
      " 25  voteTD         float64\n",
      " 26  voteGCG        float64\n",
      " 27  voteDCD        float64\n",
      " 28  pvoixT2MACRON  float64\n",
      " 29  pvoixT2MLEPEN  float64\n",
      " 30  pabs           float64\n",
      " 31  pblancsnuls    float64\n",
      " 32  pabsT2         float64\n",
      " 33  pblancsnulsT2  float64\n",
      "dtypes: float64(33), object(1)\n",
      "memory usage: 1.4+ GB\n"
     ]
    }
   ],
   "source": [
    "df.info()"
   ]
  },
  {
   "cell_type": "code",
   "execution_count": 8,
   "metadata": {},
   "outputs": [
    {
     "data": {
      "text/plain": [
       "codecommune           0\n",
       "revmoy2022        24974\n",
       "revmoyfoy2022     24973\n",
       "revratio2022          0\n",
       "pchom2022        157339\n",
       "pouvr2022        157339\n",
       "pcadr2022        157339\n",
       "pbac2022         156512\n",
       "psup2022         156512\n",
       "petranger2022    179511\n",
       "ppropri2022       92586\n",
       "pop2022          141870\n",
       "propf2022        156491\n",
       "prop0142022      156491\n",
       "prop15392022     156491\n",
       "prop40592022     156491\n",
       "prop60p2022      156491\n",
       "age2022          156491\n",
       "exprimes          25163\n",
       "voteG             25163\n",
       "voteCG            25163\n",
       "voteC             25163\n",
       "voteCD            25163\n",
       "voteD             25163\n",
       "voteTG            25163\n",
       "voteTD            25163\n",
       "voteGCG           25163\n",
       "voteDCD           25163\n",
       "pvoixT2MACRON     26551\n",
       "pvoixT2MLEPEN     26551\n",
       "pabs              25163\n",
       "pblancsnuls       25163\n",
       "pabsT2            25163\n",
       "pblancsnulsT2     25163\n",
       "dtype: int64"
      ]
     },
     "execution_count": 8,
     "metadata": {},
     "output_type": "execute_result"
    }
   ],
   "source": [
    "df.isnull().sum()"
   ]
  },
  {
   "cell_type": "code",
   "execution_count": 9,
   "metadata": {},
   "outputs": [
    {
     "name": "stdout",
     "output_type": "stream",
     "text": [
      "36661\n",
      "5457455\n"
     ]
    }
   ],
   "source": [
    "print(df[\"codecommune\"].nunique())  # Nombre unique de communes\n",
    "print(df.index.nunique())  # Nombre unique d'index\n"
   ]
  },
  {
   "cell_type": "code",
   "execution_count": 10,
   "metadata": {},
   "outputs": [
    {
     "data": {
      "text/html": [
       "<div>\n",
       "<style scoped>\n",
       "    .dataframe tbody tr th:only-of-type {\n",
       "        vertical-align: middle;\n",
       "    }\n",
       "\n",
       "    .dataframe tbody tr th {\n",
       "        vertical-align: top;\n",
       "    }\n",
       "\n",
       "    .dataframe thead th {\n",
       "        text-align: right;\n",
       "    }\n",
       "</style>\n",
       "<table border=\"1\" class=\"dataframe\">\n",
       "  <thead>\n",
       "    <tr style=\"text-align: right;\">\n",
       "      <th></th>\n",
       "      <th>codecommune</th>\n",
       "      <th>revmoy2022</th>\n",
       "      <th>revmoyfoy2022</th>\n",
       "      <th>revratio2022</th>\n",
       "      <th>pchom2022</th>\n",
       "      <th>pouvr2022</th>\n",
       "      <th>pcadr2022</th>\n",
       "      <th>pbac2022</th>\n",
       "      <th>psup2022</th>\n",
       "      <th>petranger2022</th>\n",
       "      <th>...</th>\n",
       "      <th>voteTG</th>\n",
       "      <th>voteTD</th>\n",
       "      <th>voteGCG</th>\n",
       "      <th>voteDCD</th>\n",
       "      <th>pvoixT2MACRON</th>\n",
       "      <th>pvoixT2MLEPEN</th>\n",
       "      <th>pabs</th>\n",
       "      <th>pblancsnuls</th>\n",
       "      <th>pabsT2</th>\n",
       "      <th>pblancsnulsT2</th>\n",
       "    </tr>\n",
       "  </thead>\n",
       "  <tbody>\n",
       "    <tr>\n",
       "      <th>0</th>\n",
       "      <td>01001</td>\n",
       "      <td>21615.654</td>\n",
       "      <td>35802.426</td>\n",
       "      <td>1.146805</td>\n",
       "      <td>0.081505</td>\n",
       "      <td>0.460815</td>\n",
       "      <td>0.103448</td>\n",
       "      <td>0.44714</td>\n",
       "      <td>0.232236</td>\n",
       "      <td>0.005102</td>\n",
       "      <td>...</td>\n",
       "      <td>197.0</td>\n",
       "      <td>323.0</td>\n",
       "      <td>120.2</td>\n",
       "      <td>246.20001</td>\n",
       "      <td>0.526667</td>\n",
       "      <td>0.473333</td>\n",
       "      <td>0.167442</td>\n",
       "      <td>0.026357</td>\n",
       "      <td>0.227061</td>\n",
       "      <td>0.073095</td>\n",
       "    </tr>\n",
       "    <tr>\n",
       "      <th>1</th>\n",
       "      <td>01001</td>\n",
       "      <td>21615.654</td>\n",
       "      <td>35802.426</td>\n",
       "      <td>1.146805</td>\n",
       "      <td>0.081505</td>\n",
       "      <td>0.460815</td>\n",
       "      <td>0.103448</td>\n",
       "      <td>0.44714</td>\n",
       "      <td>0.232236</td>\n",
       "      <td>0.005102</td>\n",
       "      <td>...</td>\n",
       "      <td>197.0</td>\n",
       "      <td>323.0</td>\n",
       "      <td>120.2</td>\n",
       "      <td>246.20001</td>\n",
       "      <td>0.526667</td>\n",
       "      <td>0.473333</td>\n",
       "      <td>0.167442</td>\n",
       "      <td>0.026357</td>\n",
       "      <td>0.227061</td>\n",
       "      <td>0.073095</td>\n",
       "    </tr>\n",
       "    <tr>\n",
       "      <th>2</th>\n",
       "      <td>01001</td>\n",
       "      <td>21615.654</td>\n",
       "      <td>35802.426</td>\n",
       "      <td>1.146805</td>\n",
       "      <td>0.081505</td>\n",
       "      <td>0.460815</td>\n",
       "      <td>0.103448</td>\n",
       "      <td>0.44714</td>\n",
       "      <td>0.232236</td>\n",
       "      <td>0.005102</td>\n",
       "      <td>...</td>\n",
       "      <td>197.0</td>\n",
       "      <td>323.0</td>\n",
       "      <td>120.2</td>\n",
       "      <td>246.20001</td>\n",
       "      <td>0.526667</td>\n",
       "      <td>0.473333</td>\n",
       "      <td>0.167442</td>\n",
       "      <td>0.026357</td>\n",
       "      <td>0.227061</td>\n",
       "      <td>0.073095</td>\n",
       "    </tr>\n",
       "    <tr>\n",
       "      <th>3</th>\n",
       "      <td>01001</td>\n",
       "      <td>21615.654</td>\n",
       "      <td>35802.426</td>\n",
       "      <td>1.146805</td>\n",
       "      <td>0.081505</td>\n",
       "      <td>0.460815</td>\n",
       "      <td>0.103448</td>\n",
       "      <td>0.44714</td>\n",
       "      <td>0.232236</td>\n",
       "      <td>0.005102</td>\n",
       "      <td>...</td>\n",
       "      <td>197.0</td>\n",
       "      <td>323.0</td>\n",
       "      <td>120.2</td>\n",
       "      <td>246.20001</td>\n",
       "      <td>0.526667</td>\n",
       "      <td>0.473333</td>\n",
       "      <td>0.167442</td>\n",
       "      <td>0.026357</td>\n",
       "      <td>0.227061</td>\n",
       "      <td>0.073095</td>\n",
       "    </tr>\n",
       "    <tr>\n",
       "      <th>4</th>\n",
       "      <td>01001</td>\n",
       "      <td>21615.654</td>\n",
       "      <td>35802.426</td>\n",
       "      <td>1.146805</td>\n",
       "      <td>0.081505</td>\n",
       "      <td>0.460815</td>\n",
       "      <td>0.103448</td>\n",
       "      <td>0.44714</td>\n",
       "      <td>0.232236</td>\n",
       "      <td>0.005102</td>\n",
       "      <td>...</td>\n",
       "      <td>197.0</td>\n",
       "      <td>323.0</td>\n",
       "      <td>120.2</td>\n",
       "      <td>246.20001</td>\n",
       "      <td>0.526667</td>\n",
       "      <td>0.473333</td>\n",
       "      <td>0.167442</td>\n",
       "      <td>0.026357</td>\n",
       "      <td>0.227061</td>\n",
       "      <td>0.073095</td>\n",
       "    </tr>\n",
       "  </tbody>\n",
       "</table>\n",
       "<p>5 rows × 34 columns</p>\n",
       "</div>"
      ],
      "text/plain": [
       "  codecommune  revmoy2022  revmoyfoy2022  revratio2022  pchom2022  pouvr2022  \\\n",
       "0       01001   21615.654      35802.426      1.146805   0.081505   0.460815   \n",
       "1       01001   21615.654      35802.426      1.146805   0.081505   0.460815   \n",
       "2       01001   21615.654      35802.426      1.146805   0.081505   0.460815   \n",
       "3       01001   21615.654      35802.426      1.146805   0.081505   0.460815   \n",
       "4       01001   21615.654      35802.426      1.146805   0.081505   0.460815   \n",
       "\n",
       "   pcadr2022  pbac2022  psup2022  petranger2022  ...  voteTG  voteTD  voteGCG  \\\n",
       "0   0.103448   0.44714  0.232236       0.005102  ...   197.0   323.0    120.2   \n",
       "1   0.103448   0.44714  0.232236       0.005102  ...   197.0   323.0    120.2   \n",
       "2   0.103448   0.44714  0.232236       0.005102  ...   197.0   323.0    120.2   \n",
       "3   0.103448   0.44714  0.232236       0.005102  ...   197.0   323.0    120.2   \n",
       "4   0.103448   0.44714  0.232236       0.005102  ...   197.0   323.0    120.2   \n",
       "\n",
       "     voteDCD  pvoixT2MACRON  pvoixT2MLEPEN      pabs  pblancsnuls    pabsT2  \\\n",
       "0  246.20001       0.526667       0.473333  0.167442     0.026357  0.227061   \n",
       "1  246.20001       0.526667       0.473333  0.167442     0.026357  0.227061   \n",
       "2  246.20001       0.526667       0.473333  0.167442     0.026357  0.227061   \n",
       "3  246.20001       0.526667       0.473333  0.167442     0.026357  0.227061   \n",
       "4  246.20001       0.526667       0.473333  0.167442     0.026357  0.227061   \n",
       "\n",
       "   pblancsnulsT2  \n",
       "0       0.073095  \n",
       "1       0.073095  \n",
       "2       0.073095  \n",
       "3       0.073095  \n",
       "4       0.073095  \n",
       "\n",
       "[5 rows x 34 columns]"
      ]
     },
     "execution_count": 10,
     "metadata": {},
     "output_type": "execute_result"
    }
   ],
   "source": [
    "df.head()"
   ]
  },
  {
   "cell_type": "code",
   "execution_count": 14,
   "metadata": {},
   "outputs": [
    {
     "name": "stderr",
     "output_type": "stream",
     "text": [
      "C:\\Users\\Admin.local\\AppData\\Local\\Temp\\ipykernel_61032\\3602319047.py:1: DtypeWarning: Columns (0) have mixed types. Specify dtype option on import or set low_memory=False.\n",
      "  df_final_cleaned=pd.read_csv(\"C:/Users/Admin.local/Documents/Projet_final_ICAM/df_final_cleaned.csv\", sep=\",\")\n"
     ]
    }
   ],
   "source": [
    "df_final_cleaned=pd.read_csv(\"C:/Users/Admin.local/Documents/Projet_final_ICAM/df_final_cleaned.csv\", sep=\",\")"
   ]
  },
  {
   "cell_type": "code",
   "execution_count": 15,
   "metadata": {},
   "outputs": [
    {
     "data": {
      "text/plain": [
       "(36661, 22)"
      ]
     },
     "execution_count": 15,
     "metadata": {},
     "output_type": "execute_result"
    }
   ],
   "source": [
    "df_final_cleaned.shape"
   ]
  },
  {
   "cell_type": "code",
   "execution_count": 16,
   "metadata": {},
   "outputs": [
    {
     "name": "stdout",
     "output_type": "stream",
     "text": [
      "<class 'pandas.core.frame.DataFrame'>\n",
      "RangeIndex: 36661 entries, 0 to 36660\n",
      "Data columns (total 22 columns):\n",
      " #   Column            Non-Null Count  Dtype  \n",
      "---  ------            --------------  -----  \n",
      " 0   codecommune       36661 non-null  object \n",
      " 1   revmoy2022        34746 non-null  float64\n",
      " 2   revmoyfoy2022     34747 non-null  float64\n",
      " 3   revratio2022      36661 non-null  float64\n",
      " 4   pchom2022         35065 non-null  float64\n",
      " 5   pouvr2022         35065 non-null  float64\n",
      " 6   pcadr2022         35065 non-null  float64\n",
      " 7   pbac2022          35222 non-null  float64\n",
      " 8   psup2022          35222 non-null  float64\n",
      " 9   petranger2022     34807 non-null  float64\n",
      " 10  ppropri2022       36545 non-null  float64\n",
      " 11  pop2022           36632 non-null  float64\n",
      " 12  propf2022         35230 non-null  float64\n",
      " 13  prop0142022       35230 non-null  float64\n",
      " 14  prop15392022      35230 non-null  float64\n",
      " 15  prop40592022      35230 non-null  float64\n",
      " 16  prop60p2022       35230 non-null  float64\n",
      " 17  age2022           35230 non-null  float64\n",
      " 18  pibratio2022      36635 non-null  float64\n",
      " 19  pibtot2022        34721 non-null  float64\n",
      " 20  capitalratio2022  34652 non-null  float64\n",
      " 21  capitalimmo2022   34652 non-null  float64\n",
      "dtypes: float64(21), object(1)\n",
      "memory usage: 6.2+ MB\n"
     ]
    }
   ],
   "source": [
    "df_final_cleaned.info()"
   ]
  },
  {
   "cell_type": "code",
   "execution_count": 17,
   "metadata": {},
   "outputs": [
    {
     "data": {
      "text/plain": [
       "Index(['codecommune', 'revmoy2022', 'revmoyfoy2022', 'revratio2022',\n",
       "       'pchom2022', 'pouvr2022', 'pcadr2022', 'pbac2022', 'psup2022',\n",
       "       'petranger2022', 'ppropri2022', 'pop2022', 'propf2022', 'prop0142022',\n",
       "       'prop15392022', 'prop40592022', 'prop60p2022', 'age2022',\n",
       "       'pibratio2022', 'pibtot2022', 'capitalratio2022', 'capitalimmo2022'],\n",
       "      dtype='object')"
      ]
     },
     "execution_count": 17,
     "metadata": {},
     "output_type": "execute_result"
    }
   ],
   "source": [
    "df_final_cleaned.columns   "
   ]
  },
  {
   "cell_type": "code",
   "execution_count": 18,
   "metadata": {},
   "outputs": [],
   "source": [
    "doublons = df_final_cleaned.duplicated()"
   ]
  },
  {
   "cell_type": "code",
   "execution_count": 19,
   "metadata": {},
   "outputs": [
    {
     "data": {
      "text/html": [
       "<div>\n",
       "<style scoped>\n",
       "    .dataframe tbody tr th:only-of-type {\n",
       "        vertical-align: middle;\n",
       "    }\n",
       "\n",
       "    .dataframe tbody tr th {\n",
       "        vertical-align: top;\n",
       "    }\n",
       "\n",
       "    .dataframe thead th {\n",
       "        text-align: right;\n",
       "    }\n",
       "</style>\n",
       "<table border=\"1\" class=\"dataframe\">\n",
       "  <thead>\n",
       "    <tr style=\"text-align: right;\">\n",
       "      <th></th>\n",
       "      <th>codecommune</th>\n",
       "      <th>revmoy2022</th>\n",
       "      <th>revmoyfoy2022</th>\n",
       "      <th>revratio2022</th>\n",
       "      <th>pchom2022</th>\n",
       "      <th>pouvr2022</th>\n",
       "      <th>pcadr2022</th>\n",
       "      <th>pbac2022</th>\n",
       "      <th>psup2022</th>\n",
       "      <th>petranger2022</th>\n",
       "      <th>...</th>\n",
       "      <th>propf2022</th>\n",
       "      <th>prop0142022</th>\n",
       "      <th>prop15392022</th>\n",
       "      <th>prop40592022</th>\n",
       "      <th>prop60p2022</th>\n",
       "      <th>age2022</th>\n",
       "      <th>pibratio2022</th>\n",
       "      <th>pibtot2022</th>\n",
       "      <th>capitalratio2022</th>\n",
       "      <th>capitalimmo2022</th>\n",
       "    </tr>\n",
       "  </thead>\n",
       "  <tbody>\n",
       "  </tbody>\n",
       "</table>\n",
       "<p>0 rows × 22 columns</p>\n",
       "</div>"
      ],
      "text/plain": [
       "Empty DataFrame\n",
       "Columns: [codecommune, revmoy2022, revmoyfoy2022, revratio2022, pchom2022, pouvr2022, pcadr2022, pbac2022, psup2022, petranger2022, ppropri2022, pop2022, propf2022, prop0142022, prop15392022, prop40592022, prop60p2022, age2022, pibratio2022, pibtot2022, capitalratio2022, capitalimmo2022]\n",
       "Index: []\n",
       "\n",
       "[0 rows x 22 columns]"
      ]
     },
     "execution_count": 19,
     "metadata": {},
     "output_type": "execute_result"
    }
   ],
   "source": [
    "df_final_cleaned[doublons]"
   ]
  },
  {
   "cell_type": "code",
   "execution_count": 1,
   "metadata": {},
   "outputs": [
    {
     "name": "stderr",
     "output_type": "stream",
     "text": [
      "C:\\Users\\Admin.local\\AppData\\Local\\Temp\\ipykernel_76900\\500937436.py:7: DtypeWarning: Columns (0,2) have mixed types. Specify dtype option on import or set low_memory=False.\n",
      "  df = pd.read_csv(file_path)\n"
     ]
    },
    {
     "name": "stdout",
     "output_type": "stream",
     "text": [
      "Index(['dep', 'nomdep', 'codecommune', 'nomcommune', 'poph0141962',\n",
      "       'poph15391962', 'poph40591962', 'poph60p1962', 'popf0141962',\n",
      "       'popf15391962',\n",
      "       ...\n",
      "       'perprop0141957', 'perprop60p1957', 'perpropf1958', 'perage1958',\n",
      "       'perprop0141958', 'perprop60p1958', 'perpropf1959', 'perage1959',\n",
      "       'perprop0141959', 'perprop60p1959'],\n",
      "      dtype='object', length=2385)\n",
      "   prop0141960  prop15391960  prop40591960  prop60p1960\n",
      "0     0.326531      0.306122      0.244898     0.122449\n",
      "1     0.228571      0.371429      0.200000     0.200000\n",
      "2     0.331707      0.297561      0.229268     0.141463\n",
      "3     0.090909      0.612121      0.175758     0.121212\n",
      "4     0.160000      0.320000      0.360000     0.160000\n"
     ]
    }
   ],
   "source": [
    "import pandas as pd\n",
    "\n",
    "# Chemin du fichier \"agesexcommunes.csv\"\n",
    "file_path = \"C:/Users/Admin.local/Documents/Projet_final_data/Piketty_data/Age_csp/agesexcommunes.csv\"\n",
    "\n",
    "# Charger les 5 premières lignes\n",
    "df = pd.read_csv(file_path)\n",
    "\n",
    "# Afficher les noms de colonnes pour voir si elles sont bien formatées\n",
    "print(df.columns)\n",
    "\n",
    "# Vérifier si les colonnes suspectes sont bien remplies\n",
    "print(df[[\"prop0141960\", \"prop15391960\", \"prop40591960\", \"prop60p1960\"]].head())\n"
   ]
  },
  {
   "cell_type": "code",
   "execution_count": 2,
   "metadata": {},
   "outputs": [
    {
     "name": "stderr",
     "output_type": "stream",
     "text": [
      "C:\\Users\\Admin.local\\AppData\\Local\\Temp\\ipykernel_76900\\4144990992.py:5: DtypeWarning: Columns (0) have mixed types. Specify dtype option on import or set low_memory=False.\n",
      "  df = pd.read_csv(file_path)\n"
     ]
    }
   ],
   "source": [
    "import pandas as pd\n",
    "\n",
    "# 📍 Chargement du fichier consolidé\n",
    "file_path = \"C:/Users/Admin.local/Documents/Projet_final_data/Piketty_data/df_final_transposed_socio.csv\"\n",
    "df = pd.read_csv(file_path)\n"
   ]
  },
  {
   "cell_type": "code",
   "execution_count": 3,
   "metadata": {},
   "outputs": [
    {
     "name": "stdout",
     "output_type": "stream",
     "text": [
      "🔍 Nombre total de lignes : 2309643\n"
     ]
    }
   ],
   "source": [
    "\n",
    "# 📊 Nombre total de lignes\n",
    "print(f\"🔍 Nombre total de lignes : {len(df)}\")\n"
   ]
  },
  {
   "cell_type": "code",
   "execution_count": 4,
   "metadata": {},
   "outputs": [
    {
     "name": "stdout",
     "output_type": "stream",
     "text": [
      "🏙️ Nombre de communes uniques : 72343\n"
     ]
    }
   ],
   "source": [
    "\n",
    "# 🔍 Nombre de communes uniques\n",
    "print(f\"🏙️ Nombre de communes uniques : {df['codecommune'].nunique()}\")\n"
   ]
  },
  {
   "cell_type": "code",
   "execution_count": 5,
   "metadata": {},
   "outputs": [
    {
     "name": "stdout",
     "output_type": "stream",
     "text": [
      "🔁 Nombre de doublons exacts : 0\n"
     ]
    }
   ],
   "source": [
    "\n",
    "# 📌 Vérification des doublons exacts\n",
    "print(f\"🔁 Nombre de doublons exacts : {df.duplicated().sum()}\")\n"
   ]
  },
  {
   "cell_type": "code",
   "execution_count": 6,
   "metadata": {},
   "outputs": [
    {
     "name": "stdout",
     "output_type": "stream",
     "text": [
      "🔁 Nombre de doublons par commune : 2237300\n"
     ]
    }
   ],
   "source": [
    "\n",
    "# 📌 Vérification des doublons sur les communes uniquement (mêmes codes, années différentes)\n",
    "print(f\"🔁 Nombre de doublons par commune : {df.duplicated(subset=['codecommune']).sum()}\")\n"
   ]
  },
  {
   "cell_type": "code",
   "execution_count": 7,
   "metadata": {},
   "outputs": [
    {
     "name": "stderr",
     "output_type": "stream",
     "text": [
      "C:\\Users\\Admin.local\\AppData\\Local\\Temp\\ipykernel_76900\\1749275219.py:7: DtypeWarning: Columns (0) have mixed types. Specify dtype option on import or set low_memory=False.\n",
      "  df_diplomes = pd.read_csv(file_path, dtype={\"codecommune\": str})  # Forcer le code en string\n"
     ]
    },
    {
     "name": "stdout",
     "output_type": "stream",
     "text": [
      "🔍 Nombre total de lignes : 37985\n",
      "🏙️ Nombre de communes uniques : 37985\n"
     ]
    }
   ],
   "source": [
    "import pandas as pd\n",
    "\n",
    "# 📂 Chemin du fichier\n",
    "file_path = \"C:/Users/Admin.local/Documents/Projet_final_data/Piketty_data/Diplomes_csv/diplomescommunes.csv\"\n",
    "\n",
    "# 📥 Charger le fichier\n",
    "df_diplomes = pd.read_csv(file_path, dtype={\"codecommune\": str})  # Forcer le code en string\n",
    "\n",
    "# 📊 Nombre total de lignes et de communes uniques\n",
    "print(f\"🔍 Nombre total de lignes : {len(df_diplomes)}\")\n",
    "print(f\"🏙️ Nombre de communes uniques : {df_diplomes['codecommune'].nunique()}\")\n"
   ]
  },
  {
   "cell_type": "code",
   "execution_count": 8,
   "metadata": {},
   "outputs": [
    {
     "name": "stdout",
     "output_type": "stream",
     "text": [
      "📌 Distribution des longueurs de codes communes :\n",
      "codecommune_length\n",
      "5    37985\n",
      "Name: count, dtype: int64\n"
     ]
    }
   ],
   "source": [
    "df_diplomes[\"codecommune_length\"] = df_diplomes[\"codecommune\"].str.len()\n",
    "print(\"📌 Distribution des longueurs de codes communes :\")\n",
    "print(df_diplomes[\"codecommune_length\"].value_counts())\n"
   ]
  },
  {
   "cell_type": "code",
   "execution_count": 9,
   "metadata": {},
   "outputs": [
    {
     "name": "stdout",
     "output_type": "stream",
     "text": [
      "🔎 Communes dupliquées :\n",
      "Empty DataFrame\n",
      "Columns: [dep, nomdep, codecommune, nomcommune, nodiph1962, bach1962, suph1962, nodipf1962, bacf1962, supf1962, nodiph1968, bach1968, suph1968, nodipf1968, bacf1968, supf1968, nodip1968, bac1968, sup1968, nodiph1975, bach1975, suph1975, nodipf1975, bacf1975, supf1975, nodip1975, bac1975, sup1975, nodiph1982, bach1982, suph1982, nodipf1982, bacf1982, supf1982, nodip1982, bac1982, sup1982, nodiph1990, bach1990, suph1990, nodipf1990, bacf1990, supf1990, nodip1990, bac1990, sup1990, nodiph1999, bach1999, suph1999, nodipf1999, bacf1999, supf1999, nodip1999, bac1999, sup1999, nodiph2006, bach2006, suph2006, nodipf2006, bacf2006, supf2006, nodip2006, bac2006, sup2006, nodiph2011, bach2011, suph2011, nodipf2011, bacf2011, supf2011, nodip2011, bac2011, sup2011, nodiph2016, bach2016, suph2016, nodipf2016, bacf2016, supf2016, nodip2016, bac2016, sup2016, nodip1962, bac1962, sup1962, nodiph1960, nodiph1961, nodiph1963, nodiph1964, nodiph1965, nodiph1966, nodiph1967, nodiph1969, nodiph1970, nodiph1971, nodiph1972, nodiph1973, nodiph1974, nodiph1976, nodiph1977, ...]\n",
      "Index: []\n",
      "\n",
      "[0 rows x 1164 columns]\n"
     ]
    }
   ],
   "source": [
    "df_duplicates = df_diplomes[df_diplomes.duplicated(subset=[\"codecommune\"], keep=False)]\n",
    "print(\"🔎 Communes dupliquées :\")\n",
    "print(df_duplicates.sort_values(\"codecommune\"))\n"
   ]
  },
  {
   "cell_type": "code",
   "execution_count": 10,
   "metadata": {},
   "outputs": [
    {
     "name": "stderr",
     "output_type": "stream",
     "text": [
      "C:\\Users\\Admin.local\\AppData\\Local\\Temp\\ipykernel_76900\\166332249.py:5: DtypeWarning: Columns (2) have mixed types. Specify dtype option on import or set low_memory=False.\n",
      "  df_rev = pd.read_csv(file_rev, dtype={\"codecommune\": str})\n",
      "C:\\Users\\Admin.local\\AppData\\Local\\Temp\\ipykernel_76900\\166332249.py:6: DtypeWarning: Columns (0) have mixed types. Specify dtype option on import or set low_memory=False.\n",
      "  df_csp = pd.read_csv(file_csp, dtype={\"codecommune\": str})\n"
     ]
    },
    {
     "name": "stdout",
     "output_type": "stream",
     "text": [
      "⚠️ Communes dans diplômes mais absentes ailleurs : 1353\n",
      "{'39580', '55451', '50346', '08051', '02285', '04232', '44042', '59030', '43248', '80448', '08442', '86243', '52334', '28338', '39256', '52410', '74246', '01086', '29231', '79272', '57185', '77488', '24342', '52338', '85183', '45349', '64163', '58091', '71569', '85275', '52389', '21019', '15210', '49275', '50566', '52530', '52054', '52408', '52381', '39578', '24440', '52409', '95025', '21443', '52533', '04117', '86033', '47268', '80768', '14725', '38142', '86155', '25081', '49286', '51405', '52309', '39231', '41021', '86216', '52202', '47153', '87010', '48006', '55486', '32137', '51330', '27080', '73195', '59460', '70246', '55235', '04165', '80564', '14067', '51114', '79193', '47116', '04098', '77499', '08054', '55524', '85283', '52096', '37164', '52186', '51554', '16235', '52329', '55491', '89305', '55213', '79317', '50141', '39181', '87098', '80111', '74300', '73199', '17170', '89110', '89082', '88420', '04114', '02113', '73325', '52501', '39358', '24072', '57378', '67157', '08253', '01327', '74132', '14507', '01120', '79296', '28399', '09036', '76256', '85230', '71575', '77351', '67284', '53227', '14094', '25206', '25337', '65030', '25064', '80012', '22120', '28097', '64055', '74017', '55499', '11403', '70346', '43266', '85195', '35036', '89193', '88072', '57744', '47261', '01201', '04089', '63217', '22374', '85241', '62098', '27087', '52263', '70370', '79262', '50527', '72092', '52049', '52215', '12302', '25146', '21174', '49255', '55564', '85173', '73035', '52077', '79192', '49124', '57503', '31016', '14537', '41227', '28345', '59380', '74230', '08299', '45295', '85122', '79315', '54384', '26132', '01070', '52226', '43161', '02825', '50526', '74115', '52458', '02202', '57164', '79323', '43209', '01003', '52191', '55019', '14451', '74092', '64076', '04078', '51408', '21188', '35349', '42111', '24201', '71053', '79028', '52412', '10152', '79186', '80277', '55074', '57608', '27352', '65246', '91143', '24265', '76687', '45048', '08213', '77064', '35074', '87171', '88414', '35298', '70379', '08474', '04083', '86240', '02314', '88339', '51026', '79234', '70241', '70508', '52314', '39125', '25363', '16278', '57646', '55392', '14428', '53268', '04105', '32011', '79082', '81057', '28244', '08423', '57078', '52209', '52368', '55223', '07271', '48114', '68339', '25606', '01222', '64278', '35313', '80641', '25158', '60202', '85124', '57135', '50286', '14447', '80817', '2A325', '42292', '26237', '54347', '66031', '02365', '67211', '04064', '52153', '04146', '24169', '61495', '52279', '52324', '21697', '71476', '27178', '50017', '07320', '71536', '22329', '39316', '23094', '14295', '67024', '08265', '08447', '14095', '16288', '05030', '51383', '02603', '14683', '41162', '55092', '55539', '55319', '64553', '52098', '38251', '80739', '78357', '52073', '70212', '68369', '24078', '25168', '67318', '76003', '33368', '01315', '79036', '16333', '45163', '52144', '02300', '04003', '42190', '89140', '53020', '80816', '16126', '25484', '72263', '33469', '50331', '55440', '79097', '16311', '04038', '73291', '52048', '86267', '27494', '39374', '15023', '80720', '55529', '64497', '48011', '26120', '25603', '50439', '10088', '25260', '52176', '80257', '25135', '45071', '24250', '39384', '01217', '59235', '15177', '55283', '89455', '17456', '09333', '70110', '73174', '67251', '39005', '62287', '76722', '09337', '52537', '71049', '80636', '52323', '35020', '79228', '64164', '55550', '33313', '55542', '14017', '14233', '77503', '51494', '80309', '14048', '22125', '57157', '52020', '67561', '01440', '85085', '54319', '16407', '70377', '50314', '54503', '52041', '51067', '73172', '08495', '51021', '50392', '04015', '71418', '51400', '55135', '48052', '55203', '72285', '73125', '27509', '72242', '08181', '10322', '49379', '73279', '10016', '04010', '74028', '45140', '42250', '42309', '77160', '57023', '04213', '04196', '71260', '86283', '52046', '74251', '08221', '24173', '14010', '25023', '91173', '89185', '52435', '29092', '02436', '73102', '25412', '30063', '70556', '27583', '08112', '39082', '23135', '55273', '39152', '25358', '57735', '74125', '62136', '52382', '10311', '14560', '29121', '24539', '01055', '71432', '65227', '33265', '70191', '88396', '04215', '40045', '25165', '79138', '53217', '52252', '85270', '87102', '2B044', '80567', '45319', '55480', '25577', '55318', '53166', '79227', '79110', '80007', '89121', '67457', '52532', '69011', '35043', '70365', '28384', '24185', '86212', '59373', '77346', '26151', '55020', '68220', '21453', '80653', '51615', '36039', '89301', '64030', '49146', '68003', '16319', '55337', '25409', '25396', '79181', '53149', '2B076', '52192', '55548', '14526', '73136', '67015', '52281', '89026', '17123', '53275', '25068', '79245', '07125', '55086', '67042', '66163', '22010', '27675', '17001', '39541', '76539', '14321', '09288', '88422', '24469', '24387', '79291', '08050', '79146', '05041', '39098', '59510', '14108', '33217', '53081', '01048', '91620', '14323', '55151', '39450', '80441', '04011', '04029', '01324', '08231', '88211', '27409', '72055', '49164', '14018', '14642', '50322', '08337', '86185', '55402', '14247', '33497', '60349', '57420', '04239', '80323', '16265', '08177', '77497', '57458', '88405', '85057', '45128', '27443', '67064', '74047', '55240', '50306', '39212', '51332', '50559', '08157', '87175', '44177', '80382', '26230', '04221', '35213', '52018', '52521', '02092', '54267', '50645', '07057', '2B151', '78614', '85032', '14071', '55585', '42258', '28181', '39416', '52417', '28328', '52299', '43243', '79288', '52210', '73148', '59298', '52224', '80818', '52343', '80394', '26053', '57699', '31154', '01278', '66200', '74149', '25037', '88207', '07046', '14315', '24275', '55432', '39459', '71083', '04185', '08270', '51335', '51180', '77092', '79093', '71298', '08227', '89293', '09248', '27461', '08118', '52478', '52270', '89052', '50047', '48118', '52052', '80072', '25291', '67170', '52404', '48024', '49287', '50157', '55558', '08224', '73037', '70266', '89114', '27086', '01251', '55249', '35182', '76579', '80689', '52451', '55483', '39242', '60607', '14340', '89372', '14472', '16080', '14112', '45003', '17251', '22142', '55417', '79287', '59417', '67171', '62417', '50104', '79169', '07164', '50366', '24358', '21206', '57223', '52152', '50122', '59020', '62707', '72365', '79344', '14363', '77213', '70139', '27450', '67399', '57758', '79151', '86057', '88397', '17368', '49118', '43235', '31257', '51401', '28307', '24112', '52418', '55187', '14434', '08258', '55238', '49166', '74039', '01223', '04168', '80715', '01226', '47166', '89357', '42263', '39515', '85075', '79143', '55478', '70570', '25292', '14351', '14479', '39357', '17419', '04153', '01178', '04119', '80610', '77017', '53171', '70270', '01018', '40010', '67332', '72014', '70495', '64248', '17399', '71114', '01438', '55052', '14133', '51593', '52477', '04002', '33041', '67376', '52071', '15062', '72206', '16327', '55513', '62305', '63361', '77422', '66229', '55390', '26280', '67316', '67193', '25353', '24049', '70209', '45318', '11237', '52032', '65365', '70108', '51575', '38385', '86168', '48109', '26044', '50530', '08091', '55234', '05137', '39410', '79266', '74277', '02247', '23163', '50424', '28043', '89047', '14470', '23085', '86199', '55091', '32259', '48102', '53044', '39276', '89258', '01126', '34275', '55455', '86251', '08359', '08093', '65302', '50067', '89435', '62687', '70223', '55016', '50264', '76150', '01164', '33110', '77334', '28125', '79233', '10413', '51661', '55090', '89166', '47322', '27314', '04080', '21509', '55308', '77074', '79194', '14673', '71197', '51541', '19267', '88191', '33455', '52259', '50011', '25144', '52081', '19224', '86101', '80398', '73209', '66087', '28138', '38506', '19197', '64402', '70465', '54361', '51096', '80831', '16266', '17090', '28413', '25294', '55098', '50555', '43179', '10385', '27029', '07246', '89090', '89157', '55152', '79324', '28011', '04212', '67243', '55190', '67533', '79155', '74023', '53070', '74247', '70354', '02437', '57710', '24125', '53183', '14641', '55126', '29138', '55131', '26260', '80539', '55136', '01253', '55231', '10036', '80457', '85079', '52454', '51467', '57285', '70458', '68053', '14490', '70034', '39087', '55259', '55006', '27357', '67518', '26029', '17475', '48113', '28420', '22270', '24583', '27236', '45007', '25581', '55205', '51189', '86215', '15109', '50501', '17144', '61334', '42144', '79248', '52333', '52261', '08290', '67419', '50226', '52236', '80091', '79237', '25423', '25543', '70391', '14392', '38196', '80660', '49357', '21668', '40241', '72140', '24315', '27575', '64169', '01137', '29242', '22382', '52238', '14051', '79052', '52430', '55230', '51221', '67114', '39433', '51540', '70173', '12306', '57170', '01455', '70424', '28131', '52402', '65434', '01020', '79021', '50053', '73319', '55176', '16367', '55538', '39012', '04071', '04125', '52387', '25167', '50466', '66110', '14567', '55056', '67007', '08129', '73060', '86282', '73009', '67262', '85203', '79065', '61132', '45172', '69262', '80745', '52117', '50561', '01287', '51257', '52481', '14114', '09191', '61134', '70161', '08012', '79026', '14263', '09278', '74227', '57369', '76246', '04243', '52112', '38119', '80483', '44167', '33430', '47149', '80255', '14234', '80727', '76633', '55413', '04056', '85249', '67390', '05125', '85253', '51024', '55342', '52268', '50091', '42024', '03199', '50632', '15239', '52466', '55354', '85225', '79224', '67294', '17014', '85170', '62884', '09010', '27186', '49152', '57729', '39311', '79206', '70434', '08285', '51606', '80492', '24506', '25080', '55161', '80510', '50547', '52496', '15115', '77324', '08241', '14617', '77502', '10001', '89444', '65008', '14072', '51011', '04082', '85228', '74113', '80612', '52498', '07021', '74248', '28186', '08068', '39071', '79182', '02045', '67549', '02611', '52139', '89401', '14561', '70131', '25010', '59245', '90038', '52508', '45090', '32179', '62394', '28381', '01458', '73185', '47270', '25407', '80289', '69274', '47243', '60419', '79275', '39067', '80506', '70033', '04131', '80731', '08266', '88217', '79067', '83024', '42080', '73134', '55309', '71467', '80363', '89135', '52086', '31214', '79041', '78187', '52026', '80075', '16219', '52010', '73165', '67323', '52154', '25069', '15193', '72371', '89231', '39536', '57522', '14267', '25568', '10244', '27272', '07043', '27030', '55314', '80454', '52361', '55294', '11349', '25205', '45304', '69232', '70300', '50113', '51207', '90106', '52111', '69079', '52166', '52531', '08002', '70382', '55393', '55112', '27585', '50068', '26109', '28174', '80471', '70068', '49016', '80772', '39369', '80712', '88329', '74207', '39383', '56235', '04147', '14262', '57450', '48159', '01270', '17370', '48196', '24017', '55418', '51123', '23256', '71511', '80581', '76466', '52527', '04052', '70123', '08108', '49168', '52100', '50344', '51653', '63316', '52283', '01131', '50459', '25118', '55287', '04048', '51159', '64333', '27559', '57435', '52143', '80534', '88384', '28266', '56217', '79073', '52485', '52434', '73016', '42244', '22159', '39044', '59561', '53167', '52188', '62159', '57279', '85258', '08414', '52148', '09112', '25272', '88067', '33410', '52080', '55305', '38168', '77375', '22355', '57243', '67224', '50560', '12132', '25352', '09144', '21654', '52150', '55233', '02700', '50201', '90040', '72030', '55003', '67357', '62420', '81194', '14463', '49340', '67562', '90092', '08292', '50307', '67393', '79232', '04225', '49203', '73251', '04238', '55441', '57766', '50367', '30118', '80286', '57363', '50309', '80178', '14199', '22252', '43146', '17088', '52068', '02394', '55576', '76061', '52255', '70333', '89389', '52462', '77189', '53060', '16006', '66135', '73295', '89322', '16313', '55130', '89396', '52078', '39144', '95065', '51209', '69226', '10407', '04060', '55209', '48035', '01161', '52339', '89476', '64384', '27479', '68236', '22301', '23153', '28228', '70543', '50065', '85263', '14631', '28238', '07180', '50377', '52441', '16299', '67219', '10292', '80254', '52345', '14314', '85007', '25169', '33340', '52460', '49293', '48143', '24467', '41076', '55147', '04014', '51481', '08345', '16324', '52317', '86179'}\n"
     ]
    }
   ],
   "source": [
    "# 📂 Charger les fichiers existants (revenus + csp)\n",
    "file_rev = \"C:/Users/Admin.local/Documents/Projet_final_data/Piketty_data/Revenus_csv/revcommunes.csv\"\n",
    "file_csp = \"C:/Users/Admin.local/Documents/Projet_final_data/Piketty_data/CSP_csv/cspcommunes.csv\"\n",
    "\n",
    "df_rev = pd.read_csv(file_rev, dtype={\"codecommune\": str})\n",
    "df_csp = pd.read_csv(file_csp, dtype={\"codecommune\": str})\n",
    "\n",
    "# 📋 Communes uniques dans chaque fichier\n",
    "communes_rev = set(df_rev[\"codecommune\"])\n",
    "communes_csp = set(df_csp[\"codecommune\"])\n",
    "communes_diplomes = set(df_diplomes[\"codecommune\"])\n",
    "\n",
    "# 🔎 Communes présentes dans diplômes mais pas dans revenus ou csp\n",
    "communes_probleme = communes_diplomes - (communes_rev & communes_csp)\n",
    "print(f\"⚠️ Communes dans diplômes mais absentes ailleurs : {len(communes_probleme)}\")\n",
    "print(communes_probleme)\n"
   ]
  },
  {
   "cell_type": "code",
   "execution_count": 11,
   "metadata": {},
   "outputs": [
    {
     "data": {
      "text/plain": [
       "{'06900',\n",
       " '13201',\n",
       " '13202',\n",
       " '13203',\n",
       " '13204',\n",
       " '13205',\n",
       " '13206',\n",
       " '13207',\n",
       " '13208',\n",
       " '13209',\n",
       " '13210',\n",
       " '13211',\n",
       " '13212',\n",
       " '13213',\n",
       " '13214',\n",
       " '13215',\n",
       " '13216',\n",
       " '13340',\n",
       " '13346',\n",
       " '69381',\n",
       " '69382',\n",
       " '69383',\n",
       " '69384',\n",
       " '69385',\n",
       " '69386',\n",
       " '69387',\n",
       " '69388',\n",
       " '69389',\n",
       " '75056'}"
      ]
     },
     "execution_count": 11,
     "metadata": {},
     "output_type": "execute_result"
    }
   ],
   "source": [
    "communes_rev-communes_csp"
   ]
  },
  {
   "cell_type": "code",
   "execution_count": 16,
   "metadata": {},
   "outputs": [],
   "source": [
    "import pandas as pd\n",
    "\n",
    "# 📂 Chemins des fichiers\n",
    "path_socio = \"C:/Users/Admin.local/Documents/Projet_final_data/Piketty_data/df_final_transposed_socio.csv\"\n",
    "path_elections = \"C:/Users/Admin.local/Documents/Projet_final_data/Piketty_data/elections_fusionnees_tracking_1er_tour.csv\"\n",
    "output_path = \"C:/Users/Admin.local/Documents/Projet_final_data/Piketty_data/elections_socio_fusionnes.csv\"\n",
    "\n",
    "# 📌 Chargement des fichiers CSV avec gestion des types mixtes\n",
    "df_socio = pd.read_csv(path_socio, dtype={\"codecommune\": str}, low_memory=False)\n",
    "df_elections = pd.read_csv(path_elections, dtype={\"codecommune\": str, \"année\": int}, low_memory=False)\n",
    "\n",
    "# 📌 Sélection des années électorales\n",
    "years_electoral = [1965, 1969, 1974, 1981, 1988, 1995, 2002, 2007, 2012, 2017, 2022]\n",
    "df_socio = df_socio[df_socio[\"année\"].isin(years_electoral)]\n"
   ]
  },
  {
   "cell_type": "code",
   "execution_count": 23,
   "metadata": {},
   "outputs": [],
   "source": [
    "\n",
    "# 📌 Gestion des valeurs manquantes\n",
    "# Convertir les colonnes en types appropriés pour éviter l'erreur d'interpolation\n",
    "df_socio = df_socio.infer_objects(copy=False)\n"
   ]
  },
  {
   "cell_type": "code",
   "execution_count": 24,
   "metadata": {},
   "outputs": [
    {
     "ename": "TypeError",
     "evalue": "incompatible index of inserted column with frame index",
     "output_type": "error",
     "traceback": [
      "\u001b[1;31m---------------------------------------------------------------------------\u001b[0m",
      "\u001b[1;31mValueError\u001b[0m                                Traceback (most recent call last)",
      "File \u001b[1;32mc:\\Users\\Admin.local\\Documents\\Projet_final_ICAM\\.venv\\lib\\site-packages\\pandas\\core\\frame.py:12687\u001b[0m, in \u001b[0;36m_reindex_for_setitem\u001b[1;34m(value, index)\u001b[0m\n\u001b[0;32m  12686\u001b[0m \u001b[38;5;28;01mtry\u001b[39;00m:\n\u001b[1;32m> 12687\u001b[0m     reindexed_value \u001b[38;5;241m=\u001b[39m \u001b[43mvalue\u001b[49m\u001b[38;5;241;43m.\u001b[39;49m\u001b[43mreindex\u001b[49m\u001b[43m(\u001b[49m\u001b[43mindex\u001b[49m\u001b[43m)\u001b[49m\u001b[38;5;241m.\u001b[39m_values\n\u001b[0;32m  12688\u001b[0m \u001b[38;5;28;01mexcept\u001b[39;00m \u001b[38;5;167;01mValueError\u001b[39;00m \u001b[38;5;28;01mas\u001b[39;00m err:\n\u001b[0;32m  12689\u001b[0m     \u001b[38;5;66;03m# raised in MultiIndex.from_tuples, see test_insert_error_msmgs\u001b[39;00m\n",
      "File \u001b[1;32mc:\\Users\\Admin.local\\Documents\\Projet_final_ICAM\\.venv\\lib\\site-packages\\pandas\\core\\series.py:5153\u001b[0m, in \u001b[0;36mSeries.reindex\u001b[1;34m(self, index, axis, method, copy, level, fill_value, limit, tolerance)\u001b[0m\n\u001b[0;32m   5136\u001b[0m \u001b[38;5;129m@doc\u001b[39m(\n\u001b[0;32m   5137\u001b[0m     NDFrame\u001b[38;5;241m.\u001b[39mreindex,  \u001b[38;5;66;03m# type: ignore[has-type]\u001b[39;00m\n\u001b[0;32m   5138\u001b[0m     klass\u001b[38;5;241m=\u001b[39m_shared_doc_kwargs[\u001b[38;5;124m\"\u001b[39m\u001b[38;5;124mklass\u001b[39m\u001b[38;5;124m\"\u001b[39m],\n\u001b[1;32m   (...)\u001b[0m\n\u001b[0;32m   5151\u001b[0m     tolerance\u001b[38;5;241m=\u001b[39m\u001b[38;5;28;01mNone\u001b[39;00m,\n\u001b[0;32m   5152\u001b[0m ) \u001b[38;5;241m-\u001b[39m\u001b[38;5;241m>\u001b[39m Series:\n\u001b[1;32m-> 5153\u001b[0m     \u001b[38;5;28;01mreturn\u001b[39;00m \u001b[38;5;28;43msuper\u001b[39;49m\u001b[43m(\u001b[49m\u001b[43m)\u001b[49m\u001b[38;5;241;43m.\u001b[39;49m\u001b[43mreindex\u001b[49m\u001b[43m(\u001b[49m\n\u001b[0;32m   5154\u001b[0m \u001b[43m        \u001b[49m\u001b[43mindex\u001b[49m\u001b[38;5;241;43m=\u001b[39;49m\u001b[43mindex\u001b[49m\u001b[43m,\u001b[49m\n\u001b[0;32m   5155\u001b[0m \u001b[43m        \u001b[49m\u001b[43mmethod\u001b[49m\u001b[38;5;241;43m=\u001b[39;49m\u001b[43mmethod\u001b[49m\u001b[43m,\u001b[49m\n\u001b[0;32m   5156\u001b[0m \u001b[43m        \u001b[49m\u001b[43mcopy\u001b[49m\u001b[38;5;241;43m=\u001b[39;49m\u001b[43mcopy\u001b[49m\u001b[43m,\u001b[49m\n\u001b[0;32m   5157\u001b[0m \u001b[43m        \u001b[49m\u001b[43mlevel\u001b[49m\u001b[38;5;241;43m=\u001b[39;49m\u001b[43mlevel\u001b[49m\u001b[43m,\u001b[49m\n\u001b[0;32m   5158\u001b[0m \u001b[43m        \u001b[49m\u001b[43mfill_value\u001b[49m\u001b[38;5;241;43m=\u001b[39;49m\u001b[43mfill_value\u001b[49m\u001b[43m,\u001b[49m\n\u001b[0;32m   5159\u001b[0m \u001b[43m        \u001b[49m\u001b[43mlimit\u001b[49m\u001b[38;5;241;43m=\u001b[39;49m\u001b[43mlimit\u001b[49m\u001b[43m,\u001b[49m\n\u001b[0;32m   5160\u001b[0m \u001b[43m        \u001b[49m\u001b[43mtolerance\u001b[49m\u001b[38;5;241;43m=\u001b[39;49m\u001b[43mtolerance\u001b[49m\u001b[43m,\u001b[49m\n\u001b[0;32m   5161\u001b[0m \u001b[43m    \u001b[49m\u001b[43m)\u001b[49m\n",
      "File \u001b[1;32mc:\\Users\\Admin.local\\Documents\\Projet_final_ICAM\\.venv\\lib\\site-packages\\pandas\\core\\generic.py:5610\u001b[0m, in \u001b[0;36mNDFrame.reindex\u001b[1;34m(self, labels, index, columns, axis, method, copy, level, fill_value, limit, tolerance)\u001b[0m\n\u001b[0;32m   5609\u001b[0m \u001b[38;5;66;03m# perform the reindex on the axes\u001b[39;00m\n\u001b[1;32m-> 5610\u001b[0m \u001b[38;5;28;01mreturn\u001b[39;00m \u001b[38;5;28;43mself\u001b[39;49m\u001b[38;5;241;43m.\u001b[39;49m\u001b[43m_reindex_axes\u001b[49m\u001b[43m(\u001b[49m\n\u001b[0;32m   5611\u001b[0m \u001b[43m    \u001b[49m\u001b[43maxes\u001b[49m\u001b[43m,\u001b[49m\u001b[43m \u001b[49m\u001b[43mlevel\u001b[49m\u001b[43m,\u001b[49m\u001b[43m \u001b[49m\u001b[43mlimit\u001b[49m\u001b[43m,\u001b[49m\u001b[43m \u001b[49m\u001b[43mtolerance\u001b[49m\u001b[43m,\u001b[49m\u001b[43m \u001b[49m\u001b[43mmethod\u001b[49m\u001b[43m,\u001b[49m\u001b[43m \u001b[49m\u001b[43mfill_value\u001b[49m\u001b[43m,\u001b[49m\u001b[43m \u001b[49m\u001b[43mcopy\u001b[49m\n\u001b[0;32m   5612\u001b[0m \u001b[43m\u001b[49m\u001b[43m)\u001b[49m\u001b[38;5;241m.\u001b[39m__finalize__(\u001b[38;5;28mself\u001b[39m, method\u001b[38;5;241m=\u001b[39m\u001b[38;5;124m\"\u001b[39m\u001b[38;5;124mreindex\u001b[39m\u001b[38;5;124m\"\u001b[39m)\n",
      "File \u001b[1;32mc:\\Users\\Admin.local\\Documents\\Projet_final_ICAM\\.venv\\lib\\site-packages\\pandas\\core\\generic.py:5633\u001b[0m, in \u001b[0;36mNDFrame._reindex_axes\u001b[1;34m(self, axes, level, limit, tolerance, method, fill_value, copy)\u001b[0m\n\u001b[0;32m   5632\u001b[0m ax \u001b[38;5;241m=\u001b[39m \u001b[38;5;28mself\u001b[39m\u001b[38;5;241m.\u001b[39m_get_axis(a)\n\u001b[1;32m-> 5633\u001b[0m new_index, indexer \u001b[38;5;241m=\u001b[39m \u001b[43max\u001b[49m\u001b[38;5;241;43m.\u001b[39;49m\u001b[43mreindex\u001b[49m\u001b[43m(\u001b[49m\n\u001b[0;32m   5634\u001b[0m \u001b[43m    \u001b[49m\u001b[43mlabels\u001b[49m\u001b[43m,\u001b[49m\u001b[43m \u001b[49m\u001b[43mlevel\u001b[49m\u001b[38;5;241;43m=\u001b[39;49m\u001b[43mlevel\u001b[49m\u001b[43m,\u001b[49m\u001b[43m \u001b[49m\u001b[43mlimit\u001b[49m\u001b[38;5;241;43m=\u001b[39;49m\u001b[43mlimit\u001b[49m\u001b[43m,\u001b[49m\u001b[43m \u001b[49m\u001b[43mtolerance\u001b[49m\u001b[38;5;241;43m=\u001b[39;49m\u001b[43mtolerance\u001b[49m\u001b[43m,\u001b[49m\u001b[43m \u001b[49m\u001b[43mmethod\u001b[49m\u001b[38;5;241;43m=\u001b[39;49m\u001b[43mmethod\u001b[49m\n\u001b[0;32m   5635\u001b[0m \u001b[43m\u001b[49m\u001b[43m)\u001b[49m\n\u001b[0;32m   5637\u001b[0m axis \u001b[38;5;241m=\u001b[39m \u001b[38;5;28mself\u001b[39m\u001b[38;5;241m.\u001b[39m_get_axis_number(a)\n",
      "File \u001b[1;32mc:\\Users\\Admin.local\\Documents\\Projet_final_ICAM\\.venv\\lib\\site-packages\\pandas\\core\\indexes\\base.py:4433\u001b[0m, in \u001b[0;36mIndex.reindex\u001b[1;34m(self, target, method, level, limit, tolerance)\u001b[0m\n\u001b[0;32m   4431\u001b[0m             indexer, _ \u001b[38;5;241m=\u001b[39m \u001b[38;5;28mself\u001b[39m\u001b[38;5;241m.\u001b[39mget_indexer_non_unique(target)\n\u001b[1;32m-> 4433\u001b[0m target \u001b[38;5;241m=\u001b[39m \u001b[38;5;28;43mself\u001b[39;49m\u001b[38;5;241;43m.\u001b[39;49m\u001b[43m_wrap_reindex_result\u001b[49m\u001b[43m(\u001b[49m\u001b[43mtarget\u001b[49m\u001b[43m,\u001b[49m\u001b[43m \u001b[49m\u001b[43mindexer\u001b[49m\u001b[43m,\u001b[49m\u001b[43m \u001b[49m\u001b[43mpreserve_names\u001b[49m\u001b[43m)\u001b[49m\n\u001b[0;32m   4434\u001b[0m \u001b[38;5;28;01mreturn\u001b[39;00m target, indexer\n",
      "File \u001b[1;32mc:\\Users\\Admin.local\\Documents\\Projet_final_ICAM\\.venv\\lib\\site-packages\\pandas\\core\\indexes\\multi.py:2717\u001b[0m, in \u001b[0;36mMultiIndex._wrap_reindex_result\u001b[1;34m(self, target, indexer, preserve_names)\u001b[0m\n\u001b[0;32m   2716\u001b[0m \u001b[38;5;28;01mtry\u001b[39;00m:\n\u001b[1;32m-> 2717\u001b[0m     target \u001b[38;5;241m=\u001b[39m \u001b[43mMultiIndex\u001b[49m\u001b[38;5;241;43m.\u001b[39;49m\u001b[43mfrom_tuples\u001b[49m\u001b[43m(\u001b[49m\u001b[43mtarget\u001b[49m\u001b[43m)\u001b[49m\n\u001b[0;32m   2718\u001b[0m \u001b[38;5;28;01mexcept\u001b[39;00m \u001b[38;5;167;01mTypeError\u001b[39;00m:\n\u001b[0;32m   2719\u001b[0m     \u001b[38;5;66;03m# not all tuples, see test_constructor_dict_multiindex_reindex_flat\u001b[39;00m\n",
      "File \u001b[1;32mc:\\Users\\Admin.local\\Documents\\Projet_final_ICAM\\.venv\\lib\\site-packages\\pandas\\core\\indexes\\multi.py:222\u001b[0m, in \u001b[0;36mnames_compat.<locals>.new_meth\u001b[1;34m(self_or_cls, *args, **kwargs)\u001b[0m\n\u001b[0;32m    220\u001b[0m     kwargs[\u001b[38;5;124m\"\u001b[39m\u001b[38;5;124mnames\u001b[39m\u001b[38;5;124m\"\u001b[39m] \u001b[38;5;241m=\u001b[39m kwargs\u001b[38;5;241m.\u001b[39mpop(\u001b[38;5;124m\"\u001b[39m\u001b[38;5;124mname\u001b[39m\u001b[38;5;124m\"\u001b[39m)\n\u001b[1;32m--> 222\u001b[0m \u001b[38;5;28;01mreturn\u001b[39;00m meth(self_or_cls, \u001b[38;5;241m*\u001b[39margs, \u001b[38;5;241m*\u001b[39m\u001b[38;5;241m*\u001b[39mkwargs)\n",
      "File \u001b[1;32mc:\\Users\\Admin.local\\Documents\\Projet_final_ICAM\\.venv\\lib\\site-packages\\pandas\\core\\indexes\\multi.py:617\u001b[0m, in \u001b[0;36mMultiIndex.from_tuples\u001b[1;34m(cls, tuples, sortorder, names)\u001b[0m\n\u001b[0;32m    615\u001b[0m         tuples \u001b[38;5;241m=\u001b[39m np\u001b[38;5;241m.\u001b[39masarray(tuples\u001b[38;5;241m.\u001b[39m_values)\n\u001b[1;32m--> 617\u001b[0m     arrays \u001b[38;5;241m=\u001b[39m \u001b[38;5;28mlist\u001b[39m(\u001b[43mlib\u001b[49m\u001b[38;5;241;43m.\u001b[39;49m\u001b[43mtuples_to_object_array\u001b[49m\u001b[43m(\u001b[49m\u001b[43mtuples\u001b[49m\u001b[43m)\u001b[49m\u001b[38;5;241m.\u001b[39mT)\n\u001b[0;32m    618\u001b[0m \u001b[38;5;28;01melif\u001b[39;00m \u001b[38;5;28misinstance\u001b[39m(tuples, \u001b[38;5;28mlist\u001b[39m):\n",
      "File \u001b[1;32mlib.pyx:3029\u001b[0m, in \u001b[0;36mpandas._libs.lib.tuples_to_object_array\u001b[1;34m()\u001b[0m\n",
      "\u001b[1;31mValueError\u001b[0m: Buffer dtype mismatch, expected 'Python object' but got 'long long'",
      "\nThe above exception was the direct cause of the following exception:\n",
      "\u001b[1;31mTypeError\u001b[0m                                 Traceback (most recent call last)",
      "\u001b[1;32m~\\AppData\\Local\\Temp\\ipykernel_76900\\439162051.py\u001b[0m in \u001b[0;36m?\u001b[1;34m()\u001b[0m\n\u001b[0;32m      1\u001b[0m \u001b[1;31m# Séparer les colonnes numériques pour l'interpolation\u001b[0m\u001b[1;33m\u001b[0m\u001b[1;33m\u001b[0m\u001b[0m\n\u001b[0;32m      2\u001b[0m \u001b[0mnumeric_cols\u001b[0m \u001b[1;33m=\u001b[0m \u001b[0mdf_socio\u001b[0m\u001b[1;33m.\u001b[0m\u001b[0mselect_dtypes\u001b[0m\u001b[1;33m(\u001b[0m\u001b[0minclude\u001b[0m\u001b[1;33m=\u001b[0m\u001b[1;33m[\u001b[0m\u001b[1;34m\"number\"\u001b[0m\u001b[1;33m]\u001b[0m\u001b[1;33m)\u001b[0m\u001b[1;33m.\u001b[0m\u001b[0mcolumns\u001b[0m\u001b[1;33m\u001b[0m\u001b[1;33m\u001b[0m\u001b[0m\n\u001b[1;32m----> 3\u001b[1;33m \u001b[0mdf_socio\u001b[0m\u001b[1;33m[\u001b[0m\u001b[0mnumeric_cols\u001b[0m\u001b[1;33m]\u001b[0m \u001b[1;33m=\u001b[0m \u001b[0mdf_socio\u001b[0m\u001b[1;33m.\u001b[0m\u001b[0mgroupby\u001b[0m\u001b[1;33m(\u001b[0m\u001b[1;34m\"codecommune\"\u001b[0m\u001b[1;33m)\u001b[0m\u001b[1;33m[\u001b[0m\u001b[0mnumeric_cols\u001b[0m\u001b[1;33m]\u001b[0m\u001b[1;33m.\u001b[0m\u001b[0mapply\u001b[0m\u001b[1;33m(\u001b[0m\u001b[1;32mlambda\u001b[0m \u001b[0mgroup\u001b[0m\u001b[1;33m:\u001b[0m \u001b[0mgroup\u001b[0m\u001b[1;33m.\u001b[0m\u001b[0minterpolate\u001b[0m\u001b[1;33m(\u001b[0m\u001b[0mmethod\u001b[0m\u001b[1;33m=\u001b[0m\u001b[1;34m'linear'\u001b[0m\u001b[1;33m)\u001b[0m\u001b[1;33m)\u001b[0m\u001b[1;33m\u001b[0m\u001b[1;33m\u001b[0m\u001b[0m\n\u001b[0m",
      "\u001b[1;32mc:\\Users\\Admin.local\\Documents\\Projet_final_ICAM\\.venv\\lib\\site-packages\\pandas\\core\\frame.py\u001b[0m in \u001b[0;36m?\u001b[1;34m(self, key, value)\u001b[0m\n\u001b[0;32m   4295\u001b[0m \u001b[1;33m\u001b[0m\u001b[0m\n\u001b[0;32m   4296\u001b[0m         \u001b[1;32mif\u001b[0m \u001b[0misinstance\u001b[0m\u001b[1;33m(\u001b[0m\u001b[0mkey\u001b[0m\u001b[1;33m,\u001b[0m \u001b[0mDataFrame\u001b[0m\u001b[1;33m)\u001b[0m \u001b[1;32mor\u001b[0m \u001b[0mgetattr\u001b[0m\u001b[1;33m(\u001b[0m\u001b[0mkey\u001b[0m\u001b[1;33m,\u001b[0m \u001b[1;34m\"ndim\"\u001b[0m\u001b[1;33m,\u001b[0m \u001b[1;32mNone\u001b[0m\u001b[1;33m)\u001b[0m \u001b[1;33m==\u001b[0m \u001b[1;36m2\u001b[0m\u001b[1;33m:\u001b[0m\u001b[1;33m\u001b[0m\u001b[1;33m\u001b[0m\u001b[0m\n\u001b[0;32m   4297\u001b[0m             \u001b[0mself\u001b[0m\u001b[1;33m.\u001b[0m\u001b[0m_setitem_frame\u001b[0m\u001b[1;33m(\u001b[0m\u001b[0mkey\u001b[0m\u001b[1;33m,\u001b[0m \u001b[0mvalue\u001b[0m\u001b[1;33m)\u001b[0m\u001b[1;33m\u001b[0m\u001b[1;33m\u001b[0m\u001b[0m\n\u001b[0;32m   4298\u001b[0m         \u001b[1;32melif\u001b[0m \u001b[0misinstance\u001b[0m\u001b[1;33m(\u001b[0m\u001b[0mkey\u001b[0m\u001b[1;33m,\u001b[0m \u001b[1;33m(\u001b[0m\u001b[0mSeries\u001b[0m\u001b[1;33m,\u001b[0m \u001b[0mnp\u001b[0m\u001b[1;33m.\u001b[0m\u001b[0mndarray\u001b[0m\u001b[1;33m,\u001b[0m \u001b[0mlist\u001b[0m\u001b[1;33m,\u001b[0m \u001b[0mIndex\u001b[0m\u001b[1;33m)\u001b[0m\u001b[1;33m)\u001b[0m\u001b[1;33m:\u001b[0m\u001b[1;33m\u001b[0m\u001b[1;33m\u001b[0m\u001b[0m\n\u001b[1;32m-> 4299\u001b[1;33m             \u001b[0mself\u001b[0m\u001b[1;33m.\u001b[0m\u001b[0m_setitem_array\u001b[0m\u001b[1;33m(\u001b[0m\u001b[0mkey\u001b[0m\u001b[1;33m,\u001b[0m \u001b[0mvalue\u001b[0m\u001b[1;33m)\u001b[0m\u001b[1;33m\u001b[0m\u001b[1;33m\u001b[0m\u001b[0m\n\u001b[0m\u001b[0;32m   4300\u001b[0m         \u001b[1;32melif\u001b[0m \u001b[0misinstance\u001b[0m\u001b[1;33m(\u001b[0m\u001b[0mvalue\u001b[0m\u001b[1;33m,\u001b[0m \u001b[0mDataFrame\u001b[0m\u001b[1;33m)\u001b[0m\u001b[1;33m:\u001b[0m\u001b[1;33m\u001b[0m\u001b[1;33m\u001b[0m\u001b[0m\n\u001b[0;32m   4301\u001b[0m             \u001b[0mself\u001b[0m\u001b[1;33m.\u001b[0m\u001b[0m_set_item_frame_value\u001b[0m\u001b[1;33m(\u001b[0m\u001b[0mkey\u001b[0m\u001b[1;33m,\u001b[0m \u001b[0mvalue\u001b[0m\u001b[1;33m)\u001b[0m\u001b[1;33m\u001b[0m\u001b[1;33m\u001b[0m\u001b[0m\n\u001b[0;32m   4302\u001b[0m         elif (\n",
      "\u001b[1;32mc:\\Users\\Admin.local\\Documents\\Projet_final_ICAM\\.venv\\lib\\site-packages\\pandas\\core\\frame.py\u001b[0m in \u001b[0;36m?\u001b[1;34m(self, key, value)\u001b[0m\n\u001b[0;32m   4339\u001b[0m \u001b[1;33m\u001b[0m\u001b[0m\n\u001b[0;32m   4340\u001b[0m             \u001b[1;32mif\u001b[0m \u001b[0misinstance\u001b[0m\u001b[1;33m(\u001b[0m\u001b[0mvalue\u001b[0m\u001b[1;33m,\u001b[0m \u001b[0mDataFrame\u001b[0m\u001b[1;33m)\u001b[0m\u001b[1;33m:\u001b[0m\u001b[1;33m\u001b[0m\u001b[1;33m\u001b[0m\u001b[0m\n\u001b[0;32m   4341\u001b[0m                 \u001b[0mcheck_key_length\u001b[0m\u001b[1;33m(\u001b[0m\u001b[0mself\u001b[0m\u001b[1;33m.\u001b[0m\u001b[0mcolumns\u001b[0m\u001b[1;33m,\u001b[0m \u001b[0mkey\u001b[0m\u001b[1;33m,\u001b[0m \u001b[0mvalue\u001b[0m\u001b[1;33m)\u001b[0m\u001b[1;33m\u001b[0m\u001b[1;33m\u001b[0m\u001b[0m\n\u001b[0;32m   4342\u001b[0m                 \u001b[1;32mfor\u001b[0m \u001b[0mk1\u001b[0m\u001b[1;33m,\u001b[0m \u001b[0mk2\u001b[0m \u001b[1;32min\u001b[0m \u001b[0mzip\u001b[0m\u001b[1;33m(\u001b[0m\u001b[0mkey\u001b[0m\u001b[1;33m,\u001b[0m \u001b[0mvalue\u001b[0m\u001b[1;33m.\u001b[0m\u001b[0mcolumns\u001b[0m\u001b[1;33m)\u001b[0m\u001b[1;33m:\u001b[0m\u001b[1;33m\u001b[0m\u001b[1;33m\u001b[0m\u001b[0m\n\u001b[1;32m-> 4343\u001b[1;33m                     \u001b[0mself\u001b[0m\u001b[1;33m[\u001b[0m\u001b[0mk1\u001b[0m\u001b[1;33m]\u001b[0m \u001b[1;33m=\u001b[0m \u001b[0mvalue\u001b[0m\u001b[1;33m[\u001b[0m\u001b[0mk2\u001b[0m\u001b[1;33m]\u001b[0m\u001b[1;33m\u001b[0m\u001b[1;33m\u001b[0m\u001b[0m\n\u001b[0m\u001b[0;32m   4344\u001b[0m \u001b[1;33m\u001b[0m\u001b[0m\n\u001b[0;32m   4345\u001b[0m             \u001b[1;32melif\u001b[0m \u001b[1;32mnot\u001b[0m \u001b[0mis_list_like\u001b[0m\u001b[1;33m(\u001b[0m\u001b[0mvalue\u001b[0m\u001b[1;33m)\u001b[0m\u001b[1;33m:\u001b[0m\u001b[1;33m\u001b[0m\u001b[1;33m\u001b[0m\u001b[0m\n\u001b[0;32m   4346\u001b[0m                 \u001b[1;32mfor\u001b[0m \u001b[0mcol\u001b[0m \u001b[1;32min\u001b[0m \u001b[0mkey\u001b[0m\u001b[1;33m:\u001b[0m\u001b[1;33m\u001b[0m\u001b[1;33m\u001b[0m\u001b[0m\n",
      "\u001b[1;32mc:\\Users\\Admin.local\\Documents\\Projet_final_ICAM\\.venv\\lib\\site-packages\\pandas\\core\\frame.py\u001b[0m in \u001b[0;36m?\u001b[1;34m(self, key, value)\u001b[0m\n\u001b[0;32m   4307\u001b[0m             \u001b[1;31m# Column to set is duplicated\u001b[0m\u001b[1;33m\u001b[0m\u001b[1;33m\u001b[0m\u001b[0m\n\u001b[0;32m   4308\u001b[0m             \u001b[0mself\u001b[0m\u001b[1;33m.\u001b[0m\u001b[0m_setitem_array\u001b[0m\u001b[1;33m(\u001b[0m\u001b[1;33m[\u001b[0m\u001b[0mkey\u001b[0m\u001b[1;33m]\u001b[0m\u001b[1;33m,\u001b[0m \u001b[0mvalue\u001b[0m\u001b[1;33m)\u001b[0m\u001b[1;33m\u001b[0m\u001b[1;33m\u001b[0m\u001b[0m\n\u001b[0;32m   4309\u001b[0m         \u001b[1;32melse\u001b[0m\u001b[1;33m:\u001b[0m\u001b[1;33m\u001b[0m\u001b[1;33m\u001b[0m\u001b[0m\n\u001b[0;32m   4310\u001b[0m             \u001b[1;31m# set column\u001b[0m\u001b[1;33m\u001b[0m\u001b[1;33m\u001b[0m\u001b[0m\n\u001b[1;32m-> 4311\u001b[1;33m             \u001b[0mself\u001b[0m\u001b[1;33m.\u001b[0m\u001b[0m_set_item\u001b[0m\u001b[1;33m(\u001b[0m\u001b[0mkey\u001b[0m\u001b[1;33m,\u001b[0m \u001b[0mvalue\u001b[0m\u001b[1;33m)\u001b[0m\u001b[1;33m\u001b[0m\u001b[1;33m\u001b[0m\u001b[0m\n\u001b[0m",
      "\u001b[1;32mc:\\Users\\Admin.local\\Documents\\Projet_final_ICAM\\.venv\\lib\\site-packages\\pandas\\core\\frame.py\u001b[0m in \u001b[0;36m?\u001b[1;34m(self, key, value)\u001b[0m\n\u001b[0;32m   4520\u001b[0m \u001b[1;33m\u001b[0m\u001b[0m\n\u001b[0;32m   4521\u001b[0m         \u001b[0mSeries\u001b[0m\u001b[1;33m/\u001b[0m\u001b[0mTimeSeries\u001b[0m \u001b[0mwill\u001b[0m \u001b[0mbe\u001b[0m \u001b[0mconformed\u001b[0m \u001b[0mto\u001b[0m \u001b[0mthe\u001b[0m \u001b[0mDataFrames\u001b[0m \u001b[0mindex\u001b[0m \u001b[0mto\u001b[0m\u001b[1;33m\u001b[0m\u001b[1;33m\u001b[0m\u001b[0m\n\u001b[0;32m   4522\u001b[0m         \u001b[0mensure\u001b[0m \u001b[0mhomogeneity\u001b[0m\u001b[1;33m.\u001b[0m\u001b[1;33m\u001b[0m\u001b[1;33m\u001b[0m\u001b[0m\n\u001b[0;32m   4523\u001b[0m         \"\"\"\n\u001b[1;32m-> 4524\u001b[1;33m         \u001b[0mvalue\u001b[0m\u001b[1;33m,\u001b[0m \u001b[0mrefs\u001b[0m \u001b[1;33m=\u001b[0m \u001b[0mself\u001b[0m\u001b[1;33m.\u001b[0m\u001b[0m_sanitize_column\u001b[0m\u001b[1;33m(\u001b[0m\u001b[0mvalue\u001b[0m\u001b[1;33m)\u001b[0m\u001b[1;33m\u001b[0m\u001b[1;33m\u001b[0m\u001b[0m\n\u001b[0m\u001b[0;32m   4525\u001b[0m \u001b[1;33m\u001b[0m\u001b[0m\n\u001b[0;32m   4526\u001b[0m         if (\n\u001b[0;32m   4527\u001b[0m             \u001b[0mkey\u001b[0m \u001b[1;32min\u001b[0m \u001b[0mself\u001b[0m\u001b[1;33m.\u001b[0m\u001b[0mcolumns\u001b[0m\u001b[1;33m\u001b[0m\u001b[1;33m\u001b[0m\u001b[0m\n",
      "\u001b[1;32mc:\\Users\\Admin.local\\Documents\\Projet_final_ICAM\\.venv\\lib\\site-packages\\pandas\\core\\frame.py\u001b[0m in \u001b[0;36m?\u001b[1;34m(self, value)\u001b[0m\n\u001b[0;32m   5259\u001b[0m         \u001b[1;32massert\u001b[0m \u001b[1;32mnot\u001b[0m \u001b[0misinstance\u001b[0m\u001b[1;33m(\u001b[0m\u001b[0mvalue\u001b[0m\u001b[1;33m,\u001b[0m \u001b[0mDataFrame\u001b[0m\u001b[1;33m)\u001b[0m\u001b[1;33m\u001b[0m\u001b[1;33m\u001b[0m\u001b[0m\n\u001b[0;32m   5260\u001b[0m         \u001b[1;32mif\u001b[0m \u001b[0mis_dict_like\u001b[0m\u001b[1;33m(\u001b[0m\u001b[0mvalue\u001b[0m\u001b[1;33m)\u001b[0m\u001b[1;33m:\u001b[0m\u001b[1;33m\u001b[0m\u001b[1;33m\u001b[0m\u001b[0m\n\u001b[0;32m   5261\u001b[0m             \u001b[1;32mif\u001b[0m \u001b[1;32mnot\u001b[0m \u001b[0misinstance\u001b[0m\u001b[1;33m(\u001b[0m\u001b[0mvalue\u001b[0m\u001b[1;33m,\u001b[0m \u001b[0mSeries\u001b[0m\u001b[1;33m)\u001b[0m\u001b[1;33m:\u001b[0m\u001b[1;33m\u001b[0m\u001b[1;33m\u001b[0m\u001b[0m\n\u001b[0;32m   5262\u001b[0m                 \u001b[0mvalue\u001b[0m \u001b[1;33m=\u001b[0m \u001b[0mSeries\u001b[0m\u001b[1;33m(\u001b[0m\u001b[0mvalue\u001b[0m\u001b[1;33m)\u001b[0m\u001b[1;33m\u001b[0m\u001b[1;33m\u001b[0m\u001b[0m\n\u001b[1;32m-> 5263\u001b[1;33m             \u001b[1;32mreturn\u001b[0m \u001b[0m_reindex_for_setitem\u001b[0m\u001b[1;33m(\u001b[0m\u001b[0mvalue\u001b[0m\u001b[1;33m,\u001b[0m \u001b[0mself\u001b[0m\u001b[1;33m.\u001b[0m\u001b[0mindex\u001b[0m\u001b[1;33m)\u001b[0m\u001b[1;33m\u001b[0m\u001b[1;33m\u001b[0m\u001b[0m\n\u001b[0m\u001b[0;32m   5264\u001b[0m \u001b[1;33m\u001b[0m\u001b[0m\n\u001b[0;32m   5265\u001b[0m         \u001b[1;32mif\u001b[0m \u001b[0mis_list_like\u001b[0m\u001b[1;33m(\u001b[0m\u001b[0mvalue\u001b[0m\u001b[1;33m)\u001b[0m\u001b[1;33m:\u001b[0m\u001b[1;33m\u001b[0m\u001b[1;33m\u001b[0m\u001b[0m\n\u001b[0;32m   5266\u001b[0m             \u001b[0mcom\u001b[0m\u001b[1;33m.\u001b[0m\u001b[0mrequire_length_match\u001b[0m\u001b[1;33m(\u001b[0m\u001b[0mvalue\u001b[0m\u001b[1;33m,\u001b[0m \u001b[0mself\u001b[0m\u001b[1;33m.\u001b[0m\u001b[0mindex\u001b[0m\u001b[1;33m)\u001b[0m\u001b[1;33m\u001b[0m\u001b[1;33m\u001b[0m\u001b[0m\n",
      "\u001b[1;32mc:\\Users\\Admin.local\\Documents\\Projet_final_ICAM\\.venv\\lib\\site-packages\\pandas\\core\\frame.py\u001b[0m in \u001b[0;36m?\u001b[1;34m(value, index)\u001b[0m\n\u001b[0;32m  12690\u001b[0m         \u001b[1;32mif\u001b[0m \u001b[1;32mnot\u001b[0m \u001b[0mvalue\u001b[0m\u001b[1;33m.\u001b[0m\u001b[0mindex\u001b[0m\u001b[1;33m.\u001b[0m\u001b[0mis_unique\u001b[0m\u001b[1;33m:\u001b[0m\u001b[1;33m\u001b[0m\u001b[1;33m\u001b[0m\u001b[0m\n\u001b[0;32m  12691\u001b[0m             \u001b[1;31m# duplicate axis\u001b[0m\u001b[1;33m\u001b[0m\u001b[1;33m\u001b[0m\u001b[0m\n\u001b[0;32m  12692\u001b[0m             \u001b[1;32mraise\u001b[0m \u001b[0merr\u001b[0m\u001b[1;33m\u001b[0m\u001b[1;33m\u001b[0m\u001b[0m\n\u001b[0;32m  12693\u001b[0m \u001b[1;33m\u001b[0m\u001b[0m\n\u001b[1;32m> 12694\u001b[1;33m         raise TypeError(\n\u001b[0m\u001b[0;32m  12695\u001b[0m             \u001b[1;34m\"incompatible index of inserted column with frame index\"\u001b[0m\u001b[1;33m\u001b[0m\u001b[1;33m\u001b[0m\u001b[0m\n\u001b[0;32m  12696\u001b[0m         ) from err\n\u001b[0;32m  12697\u001b[0m     \u001b[1;32mreturn\u001b[0m \u001b[0mreindexed_value\u001b[0m\u001b[1;33m,\u001b[0m \u001b[1;32mNone\u001b[0m\u001b[1;33m\u001b[0m\u001b[1;33m\u001b[0m\u001b[0m\n",
      "\u001b[1;31mTypeError\u001b[0m: incompatible index of inserted column with frame index"
     ]
    }
   ],
   "source": [
    "\n",
    "# Séparer les colonnes numériques pour l'interpolation\n",
    "numeric_cols = df_socio.select_dtypes(include=[\"number\"]).columns\n",
    "df_socio[numeric_cols] = df_socio.groupby(\"codecommune\")[numeric_cols].apply(lambda group: group.interpolate(method='linear'))\n"
   ]
  },
  {
   "cell_type": "code",
   "execution_count": null,
   "metadata": {},
   "outputs": [],
   "source": [
    "\n",
    "# Remplissage des valeurs manquantes avec la dernière valeur connue\n",
    "df_socio.fillna(method=\"ffill\", inplace=True)\n"
   ]
  },
  {
   "cell_type": "code",
   "execution_count": 17,
   "metadata": {},
   "outputs": [
    {
     "name": "stdout",
     "output_type": "stream",
     "text": [
      "  codecommune  exprimes  voteG  voteCG  voteC  voteCD  voteD  voteTG  voteTD  \\\n",
      "0       01001     200.0    5.0    47.0   45.0    81.0   22.0    74.5   125.5   \n",
      "1       01002      93.0    3.0    33.0   18.0    34.0    5.0    45.0    48.0   \n",
      "2       01004    3827.0   45.0  1453.0  526.0  1522.0  281.0  1761.0  2066.0   \n",
      "3       01005     322.0    5.0    64.0   80.0   144.0   29.0   109.0   213.0   \n",
      "4       01006      69.0    0.0    10.0   12.0    42.0    5.0    16.0    53.0   \n",
      "\n",
      "   voteGCG  ...  année             nomcommune  cluster_1er_tour  \\\n",
      "0     52.0  ...   1965  ABERGEMENT-CLEMENCIAT                 2   \n",
      "1     36.0  ...   1965    ABERGEMENT-DE-VAREY                 1   \n",
      "2   1498.0  ...   1965      AMBERIEU-EN-BUGEY                 1   \n",
      "3     69.0  ...   1965    AMBERIEUX-EN-DOMBES                 0   \n",
      "4     10.0  ...   1965                AMBLEON                 3   \n",
      "\n",
      "   cluster_2nd_tour  cluster_corrige_1er_tour  revratio     pchom     pouvr  \\\n",
      "0                 0                         2  0.942476  0.000000  0.270833   \n",
      "1                 0                         1  0.643500  0.000000  0.135135   \n",
      "2                 0                         1  0.946163  0.004113  0.440617   \n",
      "3                 2                         0  0.877826  0.000000  0.282486   \n",
      "4                 2                         3  0.706180  0.000000  0.294118   \n",
      "\n",
      "      pcadr  pibratio  \n",
      "0  0.000000  0.943578  \n",
      "1  0.000000  0.644252  \n",
      "2  0.026735  0.947268  \n",
      "3  0.022599  0.878851  \n",
      "4  0.000000  0.707005  \n",
      "\n",
      "[5 rows x 46 columns]\n",
      "codecommune                    0\n",
      "exprimes                       0\n",
      "voteG                          0\n",
      "voteCG                         0\n",
      "voteC                          0\n",
      "voteCD                         0\n",
      "voteD                          0\n",
      "voteTG                         0\n",
      "voteTD                         0\n",
      "voteGCG                        0\n",
      "voteDCD                        0\n",
      "pvoteG                         0\n",
      "pvoteCG                        0\n",
      "pvoteC                         0\n",
      "pvoteCD                        0\n",
      "pvoteD                         0\n",
      "pvoteTG                        0\n",
      "pvoteTD                        0\n",
      "pvoteTGratio                   0\n",
      "pvoteTDratio                   0\n",
      "exprimesT2                     0\n",
      "voteT2_ED                      0\n",
      "voteT2_D                       0\n",
      "voteT2_CD                      0\n",
      "voteT2_C                       0\n",
      "voteT2_G                       0\n",
      "pvoteT2_ED                     0\n",
      "pvoteT2_D                      0\n",
      "pvoteT2_CD                     0\n",
      "pvoteT2_C                      0\n",
      "pvoteT2_G                      0\n",
      "pvoteT2_EDratio                0\n",
      "pvoteT2_Dratio                 0\n",
      "pvoteT2_CDratio                0\n",
      "pvoteT2_Cratio                 0\n",
      "pvoteT2_Gratio                 0\n",
      "année                          0\n",
      "nomcommune                     0\n",
      "cluster_1er_tour               0\n",
      "cluster_2nd_tour               0\n",
      "cluster_corrige_1er_tour       0\n",
      "revratio                       5\n",
      "pchom                       3062\n",
      "pouvr                       2821\n",
      "pcadr                       2821\n",
      "pibratio                      61\n",
      "dtype: int64\n",
      "✅ Fichier fusionné sauvegardé : C:/Users/Admin.local/Documents/Projet_final_data/Piketty_data/elections_socio_fusionnes.csv\n"
     ]
    }
   ],
   "source": [
    "\n",
    "# 📌 Fusion des fichiers sur \"année\" et \"codecommune\"\n",
    "df_fusion = pd.merge(df_elections, df_socio, on=[\"année\", \"codecommune\"], how=\"left\")\n",
    "\n",
    "# 📌 Vérification des données fusionnées\n",
    "print(df_fusion.head())\n",
    "print(df_fusion.isnull().sum())\n",
    "\n",
    "# 📌 Sauvegarde du fichier final\n",
    "df_fusion.to_csv(output_path, index=False)\n",
    "print(f\"✅ Fichier fusionné sauvegardé : {output_path}\")\n"
   ]
  },
  {
   "cell_type": "code",
   "execution_count": 18,
   "metadata": {},
   "outputs": [
    {
     "data": {
      "text/plain": [
       "(396465, 46)"
      ]
     },
     "execution_count": 18,
     "metadata": {},
     "output_type": "execute_result"
    }
   ],
   "source": [
    "df_fusion.shape"
   ]
  },
  {
   "cell_type": "code",
   "execution_count": 19,
   "metadata": {},
   "outputs": [
    {
     "data": {
      "text/plain": [
       "36646"
      ]
     },
     "execution_count": 19,
     "metadata": {},
     "output_type": "execute_result"
    }
   ],
   "source": [
    "df_fusion['codecommune'].nunique()"
   ]
  },
  {
   "cell_type": "code",
   "execution_count": 20,
   "metadata": {},
   "outputs": [
    {
     "data": {
      "text/plain": [
       "codecommune                    0\n",
       "exprimes                       0\n",
       "voteG                          0\n",
       "voteCG                         0\n",
       "voteC                          0\n",
       "voteCD                         0\n",
       "voteD                          0\n",
       "voteTG                         0\n",
       "voteTD                         0\n",
       "voteGCG                        0\n",
       "voteDCD                        0\n",
       "pvoteG                         0\n",
       "pvoteCG                        0\n",
       "pvoteC                         0\n",
       "pvoteCD                        0\n",
       "pvoteD                         0\n",
       "pvoteTG                        0\n",
       "pvoteTD                        0\n",
       "pvoteTGratio                   0\n",
       "pvoteTDratio                   0\n",
       "exprimesT2                     0\n",
       "voteT2_ED                      0\n",
       "voteT2_D                       0\n",
       "voteT2_CD                      0\n",
       "voteT2_C                       0\n",
       "voteT2_G                       0\n",
       "pvoteT2_ED                     0\n",
       "pvoteT2_D                      0\n",
       "pvoteT2_CD                     0\n",
       "pvoteT2_C                      0\n",
       "pvoteT2_G                      0\n",
       "pvoteT2_EDratio                0\n",
       "pvoteT2_Dratio                 0\n",
       "pvoteT2_CDratio                0\n",
       "pvoteT2_Cratio                 0\n",
       "pvoteT2_Gratio                 0\n",
       "année                          0\n",
       "nomcommune                     0\n",
       "cluster_1er_tour               0\n",
       "cluster_2nd_tour               0\n",
       "cluster_corrige_1er_tour       0\n",
       "revratio                       5\n",
       "pchom                       3062\n",
       "pouvr                       2821\n",
       "pcadr                       2821\n",
       "pibratio                      61\n",
       "dtype: int64"
      ]
     },
     "execution_count": 20,
     "metadata": {},
     "output_type": "execute_result"
    }
   ],
   "source": [
    "df_fusion.isnull().sum()"
   ]
  },
  {
   "cell_type": "code",
   "execution_count": 21,
   "metadata": {},
   "outputs": [
    {
     "data": {
      "text/plain": [
       "Index(['codecommune', 'exprimes', 'voteG', 'voteCG', 'voteC', 'voteCD',\n",
       "       'voteD', 'voteTG', 'voteTD', 'voteGCG', 'voteDCD', 'pvoteG', 'pvoteCG',\n",
       "       'pvoteC', 'pvoteCD', 'pvoteD', 'pvoteTG', 'pvoteTD', 'pvoteTGratio',\n",
       "       'pvoteTDratio', 'exprimesT2', 'voteT2_ED', 'voteT2_D', 'voteT2_CD',\n",
       "       'voteT2_C', 'voteT2_G', 'pvoteT2_ED', 'pvoteT2_D', 'pvoteT2_CD',\n",
       "       'pvoteT2_C', 'pvoteT2_G', 'pvoteT2_EDratio', 'pvoteT2_Dratio',\n",
       "       'pvoteT2_CDratio', 'pvoteT2_Cratio', 'pvoteT2_Gratio', 'année',\n",
       "       'nomcommune', 'cluster_1er_tour', 'cluster_2nd_tour',\n",
       "       'cluster_corrige_1er_tour', 'revratio', 'pchom', 'pouvr', 'pcadr',\n",
       "       'pibratio'],\n",
       "      dtype='object')"
      ]
     },
     "execution_count": 21,
     "metadata": {},
     "output_type": "execute_result"
    }
   ],
   "source": [
    "df_fusion.columns"
   ]
  },
  {
   "cell_type": "code",
   "execution_count": 25,
   "metadata": {},
   "outputs": [
    {
     "name": "stderr",
     "output_type": "stream",
     "text": [
      "C:\\Users\\Admin.local\\AppData\\Local\\Temp\\ipykernel_76900\\2889859315.py:27: FutureWarning: DataFrame.fillna with 'method' is deprecated and will raise in a future version. Use obj.ffill() or obj.bfill() instead.\n",
      "  df_socio.fillna(method=\"ffill\", inplace=True)\n"
     ]
    },
    {
     "name": "stdout",
     "output_type": "stream",
     "text": [
      "  codecommune  exprimes  voteG  voteCG  voteC  voteCD  voteD  voteTG  voteTD  \\\n",
      "0       01001     200.0    5.0    47.0   45.0    81.0   22.0    74.5   125.5   \n",
      "1       01002      93.0    3.0    33.0   18.0    34.0    5.0    45.0    48.0   \n",
      "2       01004    3827.0   45.0  1453.0  526.0  1522.0  281.0  1761.0  2066.0   \n",
      "3       01005     322.0    5.0    64.0   80.0   144.0   29.0   109.0   213.0   \n",
      "4       01006      69.0    0.0    10.0   12.0    42.0    5.0    16.0    53.0   \n",
      "\n",
      "   voteGCG  ...  année             nomcommune  cluster_1er_tour  \\\n",
      "0     52.0  ...   1965  ABERGEMENT-CLEMENCIAT                 2   \n",
      "1     36.0  ...   1965    ABERGEMENT-DE-VAREY                 1   \n",
      "2   1498.0  ...   1965      AMBERIEU-EN-BUGEY                 1   \n",
      "3     69.0  ...   1965    AMBERIEUX-EN-DOMBES                 0   \n",
      "4     10.0  ...   1965                AMBLEON                 3   \n",
      "\n",
      "   cluster_2nd_tour  cluster_corrige_1er_tour  revratio     pchom     pouvr  \\\n",
      "0                 0                         2  0.942476  0.000000  0.270833   \n",
      "1                 0                         1  0.643500  0.000000  0.135135   \n",
      "2                 0                         1  0.946163  0.004113  0.440617   \n",
      "3                 2                         0  0.877826  0.000000  0.282486   \n",
      "4                 2                         3  0.706180  0.000000  0.294118   \n",
      "\n",
      "      pcadr  pibratio  \n",
      "0  0.000000  0.943578  \n",
      "1  0.000000  0.644252  \n",
      "2  0.026735  0.947268  \n",
      "3  0.022599  0.878851  \n",
      "4  0.000000  0.707005  \n",
      "\n",
      "[5 rows x 46 columns]\n",
      "codecommune                 0\n",
      "exprimes                    0\n",
      "voteG                       0\n",
      "voteCG                      0\n",
      "voteC                       0\n",
      "voteCD                      0\n",
      "voteD                       0\n",
      "voteTG                      0\n",
      "voteTD                      0\n",
      "voteGCG                     0\n",
      "voteDCD                     0\n",
      "pvoteG                      0\n",
      "pvoteCG                     0\n",
      "pvoteC                      0\n",
      "pvoteCD                     0\n",
      "pvoteD                      0\n",
      "pvoteTG                     0\n",
      "pvoteTD                     0\n",
      "pvoteTGratio                0\n",
      "pvoteTDratio                0\n",
      "exprimesT2                  0\n",
      "voteT2_ED                   0\n",
      "voteT2_D                    0\n",
      "voteT2_CD                   0\n",
      "voteT2_C                    0\n",
      "voteT2_G                    0\n",
      "pvoteT2_ED                  0\n",
      "pvoteT2_D                   0\n",
      "pvoteT2_CD                  0\n",
      "pvoteT2_C                   0\n",
      "pvoteT2_G                   0\n",
      "pvoteT2_EDratio             0\n",
      "pvoteT2_Dratio              0\n",
      "pvoteT2_CDratio             0\n",
      "pvoteT2_Cratio              0\n",
      "pvoteT2_Gratio              0\n",
      "année                       0\n",
      "nomcommune                  0\n",
      "cluster_1er_tour            0\n",
      "cluster_2nd_tour            0\n",
      "cluster_corrige_1er_tour    0\n",
      "revratio                    5\n",
      "pchom                       5\n",
      "pouvr                       5\n",
      "pcadr                       5\n",
      "pibratio                    5\n",
      "dtype: int64\n",
      "✅ Fichier fusionné sauvegardé : C:/Users/Admin.local/Documents/Projet_final_data/Piketty_data/elections_socio_fusionnes.csv\n"
     ]
    }
   ],
   "source": [
    "import pandas as pd\n",
    "\n",
    "# 📂 Chemins des fichiers\n",
    "path_socio = \"C:/Users/Admin.local/Documents/Projet_final_data/Piketty_data/df_final_transposed_socio.csv\"\n",
    "path_elections = \"C:/Users/Admin.local/Documents/Projet_final_data/Piketty_data/elections_fusionnees_tracking_1er_tour.csv\"\n",
    "output_path = \"C:/Users/Admin.local/Documents/Projet_final_data/Piketty_data/elections_socio_fusionnes.csv\"\n",
    "\n",
    "# 📌 Chargement des fichiers CSV avec gestion des types mixtes\n",
    "df_socio = pd.read_csv(path_socio, dtype={\"codecommune\": str}, low_memory=False)\n",
    "df_elections = pd.read_csv(path_elections, dtype={\"codecommune\": str, \"année\": int}, low_memory=False)\n",
    "\n",
    "# 📌 Sélection des années électorales\n",
    "years_electoral = [1965, 1969, 1974, 1981, 1988, 1995, 2002, 2007, 2012, 2017, 2022]\n",
    "df_socio = df_socio[df_socio[\"année\"].isin(years_electoral)]\n",
    "\n",
    "# 📌 Gestion des valeurs manquantes\n",
    "# Convertir les colonnes en types appropriés pour éviter l'erreur d'interpolation\n",
    "df_socio = df_socio.infer_objects(copy=False)\n",
    "\n",
    "# Séparer les colonnes numériques pour l'interpolation\n",
    "numeric_cols = df_socio.select_dtypes(include=[\"number\"]).columns\n",
    "\n",
    "# Appliquer l'interpolation uniquement sur les colonnes numériques, en conservant l'alignement des index\n",
    "df_socio[numeric_cols] = df_socio.groupby(\"codecommune\")[numeric_cols].transform(lambda x: x.interpolate(method='linear'))\n",
    "\n",
    "# Remplissage des valeurs manquantes avec la dernière valeur connue\n",
    "df_socio.fillna(method=\"ffill\", inplace=True)\n",
    "\n",
    "# 📌 Fusion des fichiers sur \"année\" et \"codecommune\"\n",
    "df_fusion = pd.merge(df_elections, df_socio, on=[\"année\", \"codecommune\"], how=\"left\")\n",
    "\n",
    "# 📌 Vérification des données fusionnées\n",
    "print(df_fusion.head())\n",
    "print(df_fusion.isnull().sum())\n",
    "\n",
    "# 📌 Sauvegarde du fichier final\n",
    "df_fusion.to_csv(output_path, index=False)\n",
    "print(f\"✅ Fichier fusionné sauvegardé : {output_path}\")\n"
   ]
  },
  {
   "cell_type": "code",
   "execution_count": 26,
   "metadata": {},
   "outputs": [],
   "source": [
    "import pandas as pd\n",
    "\n",
    "# 📂 Chemins des fichiers\n",
    "path_socio = \"C:/Users/Admin.local/Documents/Projet_final_data/Piketty_data/df_final_transposed_socio.csv\"\n",
    "path_elections = \"C:/Users/Admin.local/Documents/Projet_final_data/Piketty_data/elections_fusionnees_tracking_1er_tour.csv\"\n",
    "output_path = \"C:/Users/Admin.local/Documents/Projet_final_data/Piketty_data/elections_socio_fusionnes.csv\"\n"
   ]
  },
  {
   "cell_type": "code",
   "execution_count": 27,
   "metadata": {},
   "outputs": [],
   "source": [
    "df_fusion = pd.read_csv(output_path, dtype={\"codecommune\": str, \"année\": int}, low_memory=False)\n"
   ]
  },
  {
   "cell_type": "code",
   "execution_count": 28,
   "metadata": {},
   "outputs": [
    {
     "data": {
      "text/plain": [
       "(396465, 46)"
      ]
     },
     "execution_count": 28,
     "metadata": {},
     "output_type": "execute_result"
    }
   ],
   "source": [
    "df_fusion.shape"
   ]
  },
  {
   "cell_type": "code",
   "execution_count": 29,
   "metadata": {},
   "outputs": [
    {
     "data": {
      "text/plain": [
       "Index(['codecommune', 'exprimes', 'voteG', 'voteCG', 'voteC', 'voteCD',\n",
       "       'voteD', 'voteTG', 'voteTD', 'voteGCG', 'voteDCD', 'pvoteG', 'pvoteCG',\n",
       "       'pvoteC', 'pvoteCD', 'pvoteD', 'pvoteTG', 'pvoteTD', 'pvoteTGratio',\n",
       "       'pvoteTDratio', 'exprimesT2', 'voteT2_ED', 'voteT2_D', 'voteT2_CD',\n",
       "       'voteT2_C', 'voteT2_G', 'pvoteT2_ED', 'pvoteT2_D', 'pvoteT2_CD',\n",
       "       'pvoteT2_C', 'pvoteT2_G', 'pvoteT2_EDratio', 'pvoteT2_Dratio',\n",
       "       'pvoteT2_CDratio', 'pvoteT2_Cratio', 'pvoteT2_Gratio', 'année',\n",
       "       'nomcommune', 'cluster_1er_tour', 'cluster_2nd_tour',\n",
       "       'cluster_corrige_1er_tour', 'revratio', 'pchom', 'pouvr', 'pcadr',\n",
       "       'pibratio'],\n",
       "      dtype='object')"
      ]
     },
     "execution_count": 29,
     "metadata": {},
     "output_type": "execute_result"
    }
   ],
   "source": [
    "df_fusion.columns"
   ]
  },
  {
   "cell_type": "code",
   "execution_count": null,
   "metadata": {},
   "outputs": [],
   "source": []
  }
 ],
 "metadata": {
  "kernelspec": {
   "display_name": ".venv",
   "language": "python",
   "name": "python3"
  },
  "language_info": {
   "codemirror_mode": {
    "name": "ipython",
    "version": 3
   },
   "file_extension": ".py",
   "mimetype": "text/x-python",
   "name": "python",
   "nbconvert_exporter": "python",
   "pygments_lexer": "ipython3",
   "version": "3.10.11"
  }
 },
 "nbformat": 4,
 "nbformat_minor": 2
}
